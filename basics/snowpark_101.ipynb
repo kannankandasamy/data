{
 "cells": [
  {
   "cell_type": "code",
   "execution_count": 26,
   "id": "2fc58850",
   "metadata": {},
   "outputs": [],
   "source": [
    "import pandas as pd"
   ]
  },
  {
   "cell_type": "code",
   "execution_count": 27,
   "id": "e136bd4e",
   "metadata": {},
   "outputs": [],
   "source": [
    "from snowflake.snowpark import Session\n",
    "from snowflake.snowpark.functions import col"
   ]
  },
  {
   "cell_type": "code",
   "execution_count": 28,
   "id": "eb23b0ec",
   "metadata": {},
   "outputs": [],
   "source": [
    "connection_parameters = {\n",
    "    \"account\": \"*****\",\n",
    "    \"user\": \"*****\",\n",
    "    \"password\": \"*****\",\n",
    "    \"role\": \"DEV_ROLE\",  # optional\n",
    "    \"warehouse\": \"ESMALL_WH\",  # optional\n",
    "}  \n",
    "\n",
    "new_session = Session.builder.configs(connection_parameters).create()  "
   ]
  },
  {
   "cell_type": "code",
   "execution_count": 29,
   "id": "7930d4d5",
   "metadata": {},
   "outputs": [
    {
     "name": "stdout",
     "output_type": "stream",
     "text": [
      "<snowflake.snowpark.session.Session: account=\"fvtkhip-pxb80595\", role=\"ACCOUNTADMIN\", database=None, schema=None, warehouse=\"ESMALL_WH\">\n"
     ]
    }
   ],
   "source": [
    "print(new_session)"
   ]
  },
  {
   "cell_type": "code",
   "execution_count": 30,
   "id": "7c30a665",
   "metadata": {},
   "outputs": [
    {
     "name": "stdout",
     "output_type": "stream",
     "text": [
      "--------------------------------------------------------------------------------\n",
      "|\"CUST_ID\"  |\"CUST_NAME\"  |\"PHONE\"   |\"DOB\"       |\"INSERT_DATE\"               |\n",
      "--------------------------------------------------------------------------------\n",
      "|85         |stream_data  |23542345  |2000-02-01  |2023-08-16 18:04:18.001000  |\n",
      "|86         |cust2task2   |23542345  |2000-02-01  |2023-08-16 19:00:28.843000  |\n",
      "|87         |cust1        |23542345  |2000-02-01  |2023-08-16 22:00:21.073000  |\n",
      "|88         |cust2task2   |23542345  |2000-02-01  |2023-08-17 19:00:32.470000  |\n",
      "|89         |cust1        |23542345  |2000-02-01  |2023-08-17 22:00:17.717000  |\n",
      "|90         |cust2task2   |23542345  |2000-02-01  |2023-08-18 19:00:26.902000  |\n",
      "|91         |cust1        |23542345  |2000-02-01  |2023-08-18 22:00:17.766000  |\n",
      "|92         |cust2task2   |23542345  |2000-02-01  |2023-08-19 19:00:21.743000  |\n",
      "|93         |cust1        |23542345  |2000-02-01  |2023-08-19 22:00:34.519000  |\n",
      "--------------------------------------------------------------------------------\n",
      "\n"
     ]
    }
   ],
   "source": [
    "df_cust = new_session.sql(\"select * from sales_dwh.sales_schema.dim_customer\")\n",
    "df_cust.show()"
   ]
  },
  {
   "cell_type": "code",
   "execution_count": 31,
   "id": "29a0b2c2",
   "metadata": {},
   "outputs": [
    {
     "name": "stdout",
     "output_type": "stream",
     "text": [
      "--------------------------------------------------------------------------------\n",
      "|\"CUST_ID\"  |\"CUST_NAME\"  |\"PHONE\"   |\"DOB\"       |\"INSERT_DATE\"               |\n",
      "--------------------------------------------------------------------------------\n",
      "|85         |stream_data  |23542345  |2000-02-01  |2023-08-16 18:04:18.001000  |\n",
      "|86         |cust2task2   |23542345  |2000-02-01  |2023-08-16 19:00:28.843000  |\n",
      "|87         |cust1        |23542345  |2000-02-01  |2023-08-16 22:00:21.073000  |\n",
      "--------------------------------------------------------------------------------\n",
      "\n"
     ]
    }
   ],
   "source": [
    "df_cust.filter(col(\"CUST_ID\")<=87).show()"
   ]
  },
  {
   "cell_type": "code",
   "execution_count": 21,
   "id": "9b6d4136",
   "metadata": {},
   "outputs": [
    {
     "name": "stdout",
     "output_type": "stream",
     "text": [
      "--------------------------------------------------------------------------------\n",
      "|\"CUST_ID\"  |\"CUST_NAME\"  |\"PHONE\"   |\"DOB\"       |\"INSERT_DATE\"               |\n",
      "--------------------------------------------------------------------------------\n",
      "|85         |stream_data  |23542345  |2000-02-01  |2023-08-16 18:04:18.001000  |\n",
      "|86         |cust2task2   |23542345  |2000-02-01  |2023-08-16 19:00:28.843000  |\n",
      "|87         |cust1        |23542345  |2000-02-01  |2023-08-16 22:00:21.073000  |\n",
      "|88         |cust2task2   |23542345  |2000-02-01  |2023-08-17 19:00:32.470000  |\n",
      "|89         |cust1        |23542345  |2000-02-01  |2023-08-17 22:00:17.717000  |\n",
      "--------------------------------------------------------------------------------\n",
      "\n"
     ]
    }
   ],
   "source": [
    "df_cust.show()"
   ]
  },
  {
   "cell_type": "code",
   "execution_count": 32,
   "id": "fa38079d",
   "metadata": {},
   "outputs": [],
   "source": [
    "df_cust1 = new_session.table(\"sales_dwh.sales_schema.dim_customer\")"
   ]
  },
  {
   "cell_type": "code",
   "execution_count": 33,
   "id": "9b012410",
   "metadata": {},
   "outputs": [
    {
     "name": "stdout",
     "output_type": "stream",
     "text": [
      "--------------------------------------------------------------------------------\n",
      "|\"CUST_ID\"  |\"CUST_NAME\"  |\"PHONE\"   |\"DOB\"       |\"INSERT_DATE\"               |\n",
      "--------------------------------------------------------------------------------\n",
      "|85         |stream_data  |23542345  |2000-02-01  |2023-08-16 18:04:18.001000  |\n",
      "|86         |cust2task2   |23542345  |2000-02-01  |2023-08-16 19:00:28.843000  |\n",
      "|87         |cust1        |23542345  |2000-02-01  |2023-08-16 22:00:21.073000  |\n",
      "|88         |cust2task2   |23542345  |2000-02-01  |2023-08-17 19:00:32.470000  |\n",
      "|89         |cust1        |23542345  |2000-02-01  |2023-08-17 22:00:17.717000  |\n",
      "|90         |cust2task2   |23542345  |2000-02-01  |2023-08-18 19:00:26.902000  |\n",
      "|91         |cust1        |23542345  |2000-02-01  |2023-08-18 22:00:17.766000  |\n",
      "|92         |cust2task2   |23542345  |2000-02-01  |2023-08-19 19:00:21.743000  |\n",
      "|93         |cust1        |23542345  |2000-02-01  |2023-08-19 22:00:34.519000  |\n",
      "--------------------------------------------------------------------------------\n",
      "\n"
     ]
    }
   ],
   "source": [
    "df_cust1.show()"
   ]
  }
 ],
 "metadata": {
  "kernelspec": {
   "display_name": "Python 3 (ipykernel)",
   "language": "python",
   "name": "python3"
  },
  "language_info": {
   "codemirror_mode": {
    "name": "ipython",
    "version": 3
   },
   "file_extension": ".py",
   "mimetype": "text/x-python",
   "name": "python",
   "nbconvert_exporter": "python",
   "pygments_lexer": "ipython3",
   "version": "3.10.9"
  }
 },
 "nbformat": 4,
 "nbformat_minor": 5
}
