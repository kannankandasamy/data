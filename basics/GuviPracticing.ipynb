{
  "cells": [
    {
      "cell_type": "code",
      "execution_count": null,
      "metadata": {
        "colab": {
          "base_uri": "https://localhost:8080/"
        },
        "id": "ORTUsej00-38",
        "outputId": "eee87d01-0f20-4e90-fadc-c74329cec1d7"
      },
      "outputs": [
        {
          "name": "stdout",
          "output_type": "stream",
          "text": [
            "3 4\n",
            "3\n",
            "3\n",
            "3\n",
            "3\n"
          ]
        }
      ],
      "source": [
        "ip1 = input()\n",
        "ip = ip1.split(\" \")\n",
        "for i in range(int(ip[1])):\n",
        "    print(ip[0])"
      ]
    },
    {
      "cell_type": "code",
      "execution_count": null,
      "metadata": {
        "colab": {
          "base_uri": "https://localhost:8080/"
        },
        "id": "EvlnB9Fn3GUl",
        "outputId": "b90109f5-5235-471d-ad48-d59d584ff131"
      },
      "outputs": [
        {
          "name": "stdout",
          "output_type": "stream",
          "text": [
            "guvi\n",
            "i\n"
          ]
        }
      ],
      "source": [
        "ip = input()\n",
        "print(ip[-1:])"
      ]
    },
    {
      "cell_type": "code",
      "execution_count": null,
      "metadata": {
        "colab": {
          "base_uri": "https://localhost:8080/"
        },
        "id": "n4ODEoUS3m3H",
        "outputId": "4e0ea5fa-1152-4efa-b9c2-5a76dc7f9ba3"
      },
      "outputs": [
        {
          "name": "stdout",
          "output_type": "stream",
          "text": [
            "guvi\n",
            "ivug\n"
          ]
        }
      ],
      "source": [
        "ip = input()\n",
        "print(ip[::-1])"
      ]
    },
    {
      "cell_type": "code",
      "execution_count": null,
      "metadata": {
        "colab": {
          "base_uri": "https://localhost:8080/"
        },
        "id": "noV_x13B4hhs",
        "outputId": "9cf2df0d-ddb7-42d3-9611-3329590ba4c6"
      },
      "outputs": [
        {
          "name": "stdout",
          "output_type": "stream",
          "text": [
            "6\n",
            "0\n",
            "1\n",
            "2\n",
            "2\n",
            "3\n",
            "4\n",
            "4\n",
            "5\n",
            "6\n"
          ]
        }
      ],
      "source": [
        "ip = int(input())\n",
        "for i in range(ip):\n",
        "    print(i)\n",
        "    if (i+1)%2 == 0:\n",
        "        print(i+1)\n"
      ]
    },
    {
      "cell_type": "code",
      "execution_count": null,
      "metadata": {
        "colab": {
          "base_uri": "https://localhost:8080/"
        },
        "id": "fJDpx_m1Hg3_",
        "outputId": "e56a30f6-b191-4744-a796-40b4f5f6ce92"
      },
      "outputs": [
        {
          "name": "stdout",
          "output_type": "stream",
          "text": [
            "1234\n",
            "2 4\n",
            "1 3\n"
          ]
        }
      ],
      "source": [
        "ip = str(input())\n",
        "oop, eop = \"\", \"\"\n",
        "for i in ip:\n",
        "    if int(i) % 2 == 0:\n",
        "        eop += i + \" \"\n",
        "    else:\n",
        "        oop += i + \" \"\n",
        "print(eop[:-1])\n",
        "print(oop[:-1])"
      ]
    },
    {
      "cell_type": "code",
      "execution_count": null,
      "metadata": {
        "colab": {
          "base_uri": "https://localhost:8080/"
        },
        "id": "Xs5TjYcIHv1y",
        "outputId": "867de3f7-4d4e-4f61-a645-a103b794cb2c"
      },
      "outputs": [
        {
          "data": {
            "text/plain": [
              "['1', '2', '3', '4']"
            ]
          },
          "execution_count": 3,
          "metadata": {},
          "output_type": "execute_result"
        }
      ],
      "source": [
        "sorted(ip)"
      ]
    },
    {
      "cell_type": "code",
      "execution_count": 2,
      "metadata": {
        "colab": {
          "base_uri": "https://localhost:8080/"
        },
        "id": "nCeLvrkOJGsm",
        "outputId": "a8487d2e-ee43-4b1f-96f3-1c0b8c87f21d"
      },
      "outputs": [
        {
          "name": "stdout",
          "output_type": "stream",
          "text": [
            "78\n"
          ]
        }
      ],
      "source": [
        "ip = int(input())\n",
        "print(int(ip * (ip+1)/2))"
      ]
    },
    {
      "cell_type": "code",
      "execution_count": null,
      "metadata": {
        "colab": {
          "base_uri": "https://localhost:8080/"
        },
        "id": "2YYsGVyaJjkw",
        "outputId": "f1e42125-b1cb-4a7e-a088-0e9a0d8c0b01"
      },
      "outputs": [
        {
          "name": "stdout",
          "output_type": "stream",
          "text": [
            "2\n",
            "12.57\n"
          ]
        }
      ],
      "source": [
        "r = int(input())\n",
        "print(round(2*(22/7)*r,2))"
      ]
    },
    {
      "cell_type": "code",
      "execution_count": null,
      "metadata": {
        "colab": {
          "base_uri": "https://localhost:8080/"
        },
        "id": "mPVqDCWadaue",
        "outputId": "2e197e80-0f40-4ce0-e21f-172544da6047"
      },
      "outputs": [
        {
          "name": "stdout",
          "output_type": "stream",
          "text": [
            "i am Sherry\n",
            " m Shrry\n"
          ]
        }
      ],
      "source": [
        "ip = input()\n",
        "op = \"\".join(i for i in ip if i not in \"aeiou\")\n",
        "print(op)"
      ]
    },
    {
      "cell_type": "code",
      "execution_count": null,
      "metadata": {
        "colab": {
          "base_uri": "https://localhost:8080/"
        },
        "id": "pL5nFH8adezp",
        "outputId": "cd965236-1244-4e9e-d85b-4f7ae3a0cc42"
      },
      "outputs": [
        {
          "name": "stdout",
          "output_type": "stream",
          "text": [
            "I am test\n",
            " m tst\n"
          ]
        }
      ],
      "source": [
        "ip = input()\n",
        "op = \"\".join(i for i in ip if i.lower() not in \"aeiou\")\n",
        "if len(op.strip())==0:\n",
        "    print(-1)\n",
        "else:\n",
        "    print(op)"
      ]
    },
    {
      "cell_type": "code",
      "execution_count": null,
      "metadata": {
        "colab": {
          "base_uri": "https://localhost:8080/",
          "height": 38
        },
        "id": "ncRXZ2FJeIYp",
        "outputId": "514e4c5b-44c2-4c9c-aa66-d53d461b7cce"
      },
      "outputs": [
        {
          "data": {
            "application/vnd.google.colaboratory.intrinsic+json": {
              "type": "string"
            },
            "text/plain": [
              "'m shry'"
            ]
          },
          "execution_count": 5,
          "metadata": {},
          "output_type": "execute_result"
        }
      ],
      "source": [
        "op.strip()"
      ]
    },
    {
      "cell_type": "code",
      "execution_count": null,
      "metadata": {
        "colab": {
          "base_uri": "https://localhost:8080/"
        },
        "id": "MUgAtY27wHaG",
        "outputId": "3bd271b4-b678-4715-8ed1-f50b7271b4bc"
      },
      "outputs": [
        {
          "name": "stdout",
          "output_type": "stream",
          "text": [
            "True\n"
          ]
        }
      ],
      "source": [
        "print(bool(-1))"
      ]
    },
    {
      "cell_type": "code",
      "execution_count": 3,
      "metadata": {
        "id": "TJvEoIMrwLxN"
      },
      "outputs": [],
      "source": [
        "a = [1,2,3]"
      ]
    },
    {
      "cell_type": "code",
      "execution_count": 4,
      "metadata": {
        "id": "W4-I8hE9wzDd"
      },
      "outputs": [],
      "source": [
        "b = [4,3,2,1]"
      ]
    },
    {
      "cell_type": "code",
      "execution_count": 5,
      "metadata": {
        "colab": {
          "base_uri": "https://localhost:8080/"
        },
        "id": "mntNmnqPw60n",
        "outputId": "6c98e445-75fc-486a-cef1-cd7f462987dc"
      },
      "outputs": [
        {
          "name": "stdout",
          "output_type": "stream",
          "text": [
            "[3, 2, 1]\n"
          ]
        }
      ],
      "source": [
        "print(a[::-1])"
      ]
    },
    {
      "cell_type": "code",
      "execution_count": 7,
      "metadata": {
        "colab": {
          "base_uri": "https://localhost:8080/"
        },
        "id": "pt8GRKA8yU0o",
        "outputId": "7a31ace7-e35a-4e05-d4e3-1981782f4239"
      },
      "outputs": [
        {
          "data": {
            "text/plain": [
              "False"
            ]
          },
          "execution_count": 7,
          "metadata": {},
          "output_type": "execute_result"
        }
      ],
      "source": [
        "bool(\"\")"
      ]
    },
    {
      "cell_type": "code",
      "execution_count": null,
      "metadata": {
        "colab": {
          "base_uri": "https://localhost:8080/"
        },
        "id": "oRSI499ry2uj",
        "outputId": "accd71dc-fce2-45ec-c266-18bd29563a59"
      },
      "outputs": [
        {
          "data": {
            "text/plain": [
              "[1, 2, 3]"
            ]
          },
          "execution_count": 12,
          "metadata": {},
          "output_type": "execute_result"
        }
      ],
      "source": [
        "sorted(a)"
      ]
    },
    {
      "cell_type": "code",
      "execution_count": 8,
      "metadata": {
        "id": "YyhqlH8oy_XP"
      },
      "outputs": [],
      "source": [
        "c = sorted(a)"
      ]
    },
    {
      "cell_type": "code",
      "execution_count": 9,
      "metadata": {
        "colab": {
          "base_uri": "https://localhost:8080/"
        },
        "id": "aw0ZNkWS0Edg",
        "outputId": "b1088fbb-cffb-48e3-bfb5-bd3cabb70633"
      },
      "outputs": [
        {
          "name": "stdout",
          "output_type": "stream",
          "text": [
            "12 15 16 357 23 10\n"
          ]
        }
      ],
      "source": [
        "ip = \"3 3\"\n",
        "ip1 = \"15 16 12\".split()\n",
        "ip2 = \"357 10 23\".split()\n",
        "op = sorted(ip1) + sorted(ip2)[::-1]\n",
        "opstr = \" \".join(str(i) for i in op)\n",
        "print(opstr)"
      ]
    },
    {
      "cell_type": "code",
      "execution_count": null,
      "metadata": {
        "colab": {
          "base_uri": "https://localhost:8080/"
        },
        "id": "174plOl_2MrX",
        "outputId": "77fda162-5735-4b96-b20b-515f0cabb475"
      },
      "outputs": [
        {
          "name": "stdout",
          "output_type": "stream",
          "text": [
            "1\n",
            "2\n",
            "3\n",
            "2 3\n"
          ]
        }
      ],
      "source": [
        "ip = input()\n",
        "ip1 = input().split()\n",
        "ip2 = input().split()\n",
        "op = sorted(ip1) + ip2[::-1]\n",
        "opstr = \" \".join(str(i) for i in op)\n",
        "print(opstr)"
      ]
    },
    {
      "cell_type": "code",
      "execution_count": null,
      "metadata": {
        "colab": {
          "base_uri": "https://localhost:8080/"
        },
        "id": "CUnyIx8p3Bww",
        "outputId": "cac95f10-5109-46c0-c928-7ea5517a7219"
      },
      "outputs": [
        {
          "name": "stdout",
          "output_type": "stream",
          "text": [
            "[2]\n"
          ]
        }
      ],
      "source": [
        "ip1 = list(map(int,ip1))\n",
        "print(ip1)"
      ]
    },
    {
      "cell_type": "code",
      "execution_count": null,
      "metadata": {
        "colab": {
          "base_uri": "https://localhost:8080/"
        },
        "id": "88vWop-tAk4g",
        "outputId": "c4076279-d4a8-43e9-a7e3-832e56181d6e"
      },
      "outputs": [
        {
          "name": "stdout",
          "output_type": "stream",
          "text": [
            "3\n"
          ]
        }
      ],
      "source": [
        "ip = input()"
      ]
    },
    {
      "cell_type": "code",
      "execution_count": null,
      "metadata": {
        "colab": {
          "base_uri": "https://localhost:8080/"
        },
        "id": "5JhIqoJrA6x6",
        "outputId": "59d9b7d2-64c9-426e-a9a8-4814a08d8077"
      },
      "outputs": [
        {
          "data": {
            "text/plain": [
              "str"
            ]
          },
          "execution_count": 28,
          "metadata": {},
          "output_type": "execute_result"
        }
      ],
      "source": [
        "type(ip)"
      ]
    },
    {
      "cell_type": "code",
      "execution_count": null,
      "metadata": {
        "colab": {
          "base_uri": "https://localhost:8080/"
        },
        "id": "oJn9BeV4zawF",
        "outputId": "b028ed38-ed61-43f6-c02a-f41a3224fd1b"
      },
      "outputs": [
        {
          "name": "stdout",
          "output_type": "stream",
          "text": [
            "97\n",
            "98\n",
            "99\n",
            "294\n"
          ]
        }
      ],
      "source": [
        "s = 'abc'\n",
        "op = 0\n",
        "for i in s:\n",
        "  print(ord(i))\n",
        "  op += ord(i)\n",
        "print(op)"
      ]
    },
    {
      "cell_type": "code",
      "execution_count": null,
      "metadata": {
        "colab": {
          "base_uri": "https://localhost:8080/"
        },
        "id": "w8aQRYE-z9l-",
        "outputId": "dc69b320-a54d-4939-d226-920caee602fd"
      },
      "outputs": [
        {
          "name": "stdout",
          "output_type": "stream",
          "text": [
            "294\n"
          ]
        }
      ],
      "source": [
        "s = 'abc'\n",
        "op = sum(ord(i) for i in s)\n",
        "print(op)"
      ]
    },
    {
      "cell_type": "code",
      "execution_count": null,
      "metadata": {
        "colab": {
          "base_uri": "https://localhost:8080/"
        },
        "id": "dOrs9QKY1Lh7",
        "outputId": "b80dca5c-9297-47c8-a6d9-0fc35e106b78"
      },
      "outputs": [
        {
          "name": "stdout",
          "output_type": "stream",
          "text": [
            "yes\n"
          ]
        }
      ],
      "source": [
        "s = 'codekata'\n",
        "sem = 0\n",
        "for i in s:\n",
        "  if i.lower() in 'aeiou':\n",
        "    print(\"yes\")\n",
        "    sem = 1\n",
        "    break\n",
        "if sem==0:\n",
        "  print(\"no\")"
      ]
    },
    {
      "cell_type": "code",
      "execution_count": null,
      "metadata": {
        "colab": {
          "base_uri": "https://localhost:8080/"
        },
        "id": "cW2jSgOI2Qza",
        "outputId": "c1a0f1b1-3b27-41a6-b0c5-9480c050a57b"
      },
      "outputs": [
        {
          "name": "stdout",
          "output_type": "stream",
          "text": [
            "no\n"
          ]
        }
      ],
      "source": [
        "s = 'cdkt'\n",
        "op = \"yes\" if any(i.lower() in 'aeiou' for i in s) else \"no\"\n",
        "print(op)"
      ]
    },
    {
      "cell_type": "code",
      "execution_count": null,
      "metadata": {
        "colab": {
          "base_uri": "https://localhost:8080/"
        },
        "id": "4URPhR9f3Wxu",
        "outputId": "6b20ba34-9e83-49a1-f438-891e40c576ed"
      },
      "outputs": [
        {
          "name": "stdout",
          "output_type": "stream",
          "text": [
            "9 4.5\n",
            "hel2*ao34\n"
          ]
        }
      ],
      "source": [
        "s = 'hel23ao34'\n",
        "print(len(s), len(s)/2)\n",
        "if len(s)%2 == 0:\n",
        "  op = s[:(int(len(s)/2)-1)] + '**' + s[(int(len(s)/2) +1):]\n",
        "else:\n",
        "  op = s[:(int(len(s)/2))] + '*' + s[(int(len(s)/2) +1):]\n",
        "print(op)"
      ]
    },
    {
      "cell_type": "code",
      "execution_count": null,
      "metadata": {
        "colab": {
          "base_uri": "https://localhost:8080/"
        },
        "id": "VNJyhsct7ONR",
        "outputId": "0f6b46ab-fd39-4a48-e844-369f909980b7"
      },
      "outputs": [
        {
          "name": "stdout",
          "output_type": "stream",
          "text": [
            "28\n"
          ]
        }
      ],
      "source": [
        "s = 'HR05-AA-2669'\n",
        "op = sum(int(i) for i in s if i.isnumeric())\n",
        "print(op)"
      ]
    },
    {
      "cell_type": "code",
      "execution_count": null,
      "metadata": {
        "colab": {
          "base_uri": "https://localhost:8080/"
        },
        "id": "-qca8z24-QWS",
        "outputId": "060ec6c5-a1cb-48e1-de94-53231fc631c9"
      },
      "outputs": [
        {
          "name": "stdout",
          "output_type": "stream",
          "text": [
            "0\n"
          ]
        }
      ],
      "source": [
        "s = 'raja'\n",
        "op = sum(ord(i) for i in s if i.lower() in 'aeiou')\n",
        "print(1 if op%8 ==0 else 0)"
      ]
    },
    {
      "cell_type": "code",
      "execution_count": null,
      "metadata": {
        "colab": {
          "base_uri": "https://localhost:8080/"
        },
        "id": "WSeb5Yvv9LDw",
        "outputId": "65ab3a48-ff2c-41e5-ad3c-c98cdf6d5fa3"
      },
      "outputs": [
        {
          "data": {
            "text/plain": [
              "False"
            ]
          },
          "execution_count": 39,
          "metadata": {},
          "output_type": "execute_result"
        }
      ],
      "source": [
        "'a'.isnumeric()"
      ]
    },
    {
      "cell_type": "code",
      "execution_count": null,
      "metadata": {
        "colab": {
          "base_uri": "https://localhost:8080/",
          "height": 165
        },
        "id": "5zuvN2CvuKms",
        "outputId": "5cebab81-a569-4f7f-daff-d904ef7bd8e6"
      },
      "outputs": [
        {
          "ename": "NameError",
          "evalue": "ignored",
          "output_type": "error",
          "traceback": [
            "\u001b[0;31m---------------------------------------------------------------------------\u001b[0m",
            "\u001b[0;31mNameError\u001b[0m                                 Traceback (most recent call last)",
            "\u001b[0;32m<ipython-input-1-07dc2a50b0e2>\u001b[0m in \u001b[0;36m<cell line: 1>\u001b[0;34m()\u001b[0m\n\u001b[0;32m----> 1\u001b[0;31m \u001b[0ma\u001b[0m \u001b[0;34m=\u001b[0m \u001b[0mstack\u001b[0m\u001b[0;34m(\u001b[0m\u001b[0;34m)\u001b[0m\u001b[0;34m\u001b[0m\u001b[0;34m\u001b[0m\u001b[0m\n\u001b[0m",
            "\u001b[0;31mNameError\u001b[0m: name 'stack' is not defined"
          ]
        }
      ],
      "source": [
        "ip = input()\n",
        "stack, open, cs = [], \"{[(\", \"}])\"\n",
        "\"\"\"\n",
        "for i in ip:\n",
        "  if i in open:\n",
        "    stack.append(i)\n",
        "  elif i in cs:\n",
        "\"\"\"\n"
      ]
    },
    {
      "cell_type": "code",
      "execution_count": null,
      "metadata": {
        "colab": {
          "base_uri": "https://localhost:8080/"
        },
        "id": "qJ5y4fIUxM-x",
        "outputId": "3be42cbc-f772-4f45-a3f9-96a4ac7623f7"
      },
      "outputs": [
        {
          "name": "stdout",
          "output_type": "stream",
          "text": [
            "[1, 2, 4, 5]\n",
            "141\n"
          ]
        }
      ],
      "source": [
        "s = \"1334551\"\n",
        "op, op1 = [], \"\"\n",
        "for i in range(1,len(s)):\n",
        "  if s[i-1] == s[i]:\n",
        "    op.append(i-1)\n",
        "    op.append(i)\n",
        "print(op)\n",
        "for j in range(len(s)):\n",
        "  if j not in op:\n",
        "    op1 += s[j]\n",
        "print(op1)\n",
        "\n"
      ]
    },
    {
      "cell_type": "code",
      "execution_count": null,
      "metadata": {
        "colab": {
          "base_uri": "https://localhost:8080/"
        },
        "id": "gItd09eobxYY",
        "outputId": "3545c88f-04b0-4a02-cb77-285998d53f93"
      },
      "outputs": [
        {
          "name": "stdout",
          "output_type": "stream",
          "text": [
            "109\n",
            "no\n"
          ]
        }
      ],
      "source": [
        "ip = int(input())\n",
        "sem = 0\n",
        "if ip%2 == 0 or ip == 1:\n",
        "    sem = 1\n",
        "if sem == 0:\n",
        "    for i in range(3, ip, 2):\n",
        "        if ip%i == 0:\n",
        "            sem = 1\n",
        "            print(ip)\n",
        "            break;\n",
        "if sem == 1:\n",
        "    print(\"yes\")\n",
        "else:\n",
        "    print(\"no\")"
      ]
    },
    {
      "cell_type": "code",
      "execution_count": null,
      "metadata": {
        "colab": {
          "base_uri": "https://localhost:8080/"
        },
        "id": "4pCf_surc2m5",
        "outputId": "8b39aa88-6d22-4f72-d26b-20588cda269c"
      },
      "outputs": [
        {
          "name": "stdout",
          "output_type": "stream",
          "text": [
            "3 4\n",
            "81\n"
          ]
        }
      ],
      "source": [
        "ip = input()\n",
        "ip = list(map(int, ip.split()))\n",
        "print(ip[0]**ip[1])"
      ]
    },
    {
      "cell_type": "code",
      "execution_count": null,
      "metadata": {
        "colab": {
          "base_uri": "https://localhost:8080/"
        },
        "id": "e3hU7H-ofFJR",
        "outputId": "834c70aa-1350-4b37-dae7-f65da9699290"
      },
      "outputs": [
        {
          "name": "stdout",
          "output_type": "stream",
          "text": [
            "3 4\n",
            "6\n"
          ]
        }
      ],
      "source": [
        "ip = list(map(int, input().split()))\n",
        "print(round((1/2)*ip[0]*ip[1]))"
      ]
    },
    {
      "cell_type": "code",
      "execution_count": null,
      "metadata": {
        "colab": {
          "base_uri": "https://localhost:8080/"
        },
        "id": "gvbCUV1MQ4DH",
        "outputId": "9133ee28-fdeb-45c1-e301-a935d43d5ca4"
      },
      "outputs": [
        {
          "name": "stdout",
          "output_type": "stream",
          "text": [
            "abcdez\n",
            "0\n"
          ]
        }
      ],
      "source": [
        "ip = input().lower()\n",
        "print(1 if ip[0]=='a' and ip[-1]=='z' and ip[len(ip)//2]=='m' else 0)"
      ]
    },
    {
      "cell_type": "code",
      "execution_count": null,
      "metadata": {
        "colab": {
          "base_uri": "https://localhost:8080/"
        },
        "id": "F9qhcfkmQ-JQ",
        "outputId": "eaf9ffd1-7ef0-447c-ef63-aafa3d038ef9"
      },
      "outputs": [
        {
          "data": {
            "text/plain": [
              "3"
            ]
          },
          "execution_count": 6,
          "metadata": {},
          "output_type": "execute_result"
        }
      ],
      "source": [
        "len(ip)//2"
      ]
    },
    {
      "cell_type": "code",
      "execution_count": null,
      "metadata": {
        "id": "hCJ-gisGR7GD"
      },
      "outputs": [],
      "source": [
        "l = ['test','work']"
      ]
    },
    {
      "cell_type": "code",
      "execution_count": null,
      "metadata": {
        "colab": {
          "base_uri": "https://localhost:8080/"
        },
        "id": "ASgIMNjLR_2q",
        "outputId": "2e0c568e-07ff-49c0-d26b-04ce1386c209"
      },
      "outputs": [
        {
          "name": "stdout",
          "output_type": "stream",
          "text": [
            "test work\n"
          ]
        }
      ],
      "source": [
        "print(*l)"
      ]
    },
    {
      "cell_type": "code",
      "execution_count": null,
      "metadata": {
        "colab": {
          "base_uri": "https://localhost:8080/"
        },
        "id": "cjUKirWlSyo0",
        "outputId": "c31631ca-06c8-4d2d-bbe1-e65449f96ca6"
      },
      "outputs": [
        {
          "name": "stdout",
          "output_type": "stream",
          "text": [
            "The Sun rises in THe east\n"
          ]
        }
      ],
      "source": [
        "ip = input()\n",
        "art, ip1, ip, op = ['a','an','the'], ip.lower().split(), ip.split(), []"
      ]
    },
    {
      "cell_type": "code",
      "execution_count": null,
      "metadata": {
        "colab": {
          "base_uri": "https://localhost:8080/"
        },
        "id": "wmOa_JkvS2zj",
        "outputId": "8bac1565-611a-49f9-eda3-698ec7f853cc"
      },
      "outputs": [
        {
          "name": "stdout",
          "output_type": "stream",
          "text": [
            "the sun rises in the east\n"
          ]
        }
      ],
      "source": [
        "print(*ip1)"
      ]
    },
    {
      "cell_type": "code",
      "execution_count": null,
      "metadata": {
        "colab": {
          "base_uri": "https://localhost:8080/"
        },
        "id": "oqNfHYwjsllH",
        "outputId": "3133f340-6957-46a3-94e8-f4b64312e226"
      },
      "outputs": [
        {
          "name": "stdout",
          "output_type": "stream",
          "text": [
            "1\n",
            "2\n",
            "3\n",
            "4\n",
            "5\n"
          ]
        }
      ],
      "source": [
        "\n",
        "for i in range(1,len(ip1)):\n",
        "  if ip1[i-1] in art:\n",
        "    op.append(ip[i])\n",
        "print(*op)\n"
      ]
    },
    {
      "cell_type": "code",
      "execution_count": null,
      "metadata": {
        "colab": {
          "base_uri": "https://localhost:8080/"
        },
        "id": "dqajumE8vIrQ",
        "outputId": "6a79ba39-a8bc-4d09-ab5b-353e028c4d79"
      },
      "outputs": [
        {
          "name": "stdout",
          "output_type": "stream",
          "text": [
            "Sun east\n"
          ]
        }
      ],
      "source": [
        "print(*op)"
      ]
    },
    {
      "cell_type": "code",
      "execution_count": null,
      "metadata": {
        "colab": {
          "base_uri": "https://localhost:8080/"
        },
        "id": "k6s8hlywxDbh",
        "outputId": "2851540c-35ea-4bbb-e15a-4143a9b09141"
      },
      "outputs": [
        {
          "name": "stdout",
          "output_type": "stream",
          "text": [
            "I enjoy doing codekata\n",
            "1\n"
          ]
        }
      ],
      "source": [
        "ip = input().split()\n",
        "s, op = 'codekata', 0\n",
        "for i in ip:\n",
        "  if i==s:\n",
        "    op += 1\n",
        "print(op if op>0 else -1)\n"
      ]
    },
    {
      "cell_type": "code",
      "execution_count": null,
      "metadata": {
        "colab": {
          "base_uri": "https://localhost:8080/"
        },
        "id": "NsMJSCKb0yDq",
        "outputId": "41a129eb-81df-4272-8bc8-99cb377822b1"
      },
      "outputs": [
        {
          "name": "stdout",
          "output_type": "stream",
          "text": [
            "code\n",
            "4\n"
          ]
        }
      ],
      "source": [
        "ip = input()\n",
        "s = sum(1 for i in ip)\n",
        "print(s)"
      ]
    },
    {
      "cell_type": "code",
      "execution_count": null,
      "metadata": {
        "colab": {
          "base_uri": "https://localhost:8080/"
        },
        "id": "uKaDtuob1yt2",
        "outputId": "d5ae3583-58f3-4733-c1a8-9c4656e50473"
      },
      "outputs": [
        {
          "name": "stdout",
          "output_type": "stream",
          "text": [
            "213 567\n",
            "120771\n"
          ]
        }
      ],
      "source": [
        "ip = list(map(int,input().split()))\n",
        "print(ip[0]*ip[1])"
      ]
    },
    {
      "cell_type": "code",
      "execution_count": null,
      "metadata": {
        "colab": {
          "base_uri": "https://localhost:8080/"
        },
        "id": "WkyQDbAP7EFw",
        "outputId": "a15bdb0f-94bc-4e27-8d48-bdbdbd217016"
      },
      "outputs": [
        {
          "name": "stdout",
          "output_type": "stream",
          "text": [
            "0\n",
            "0\n",
            "not pan\n"
          ]
        }
      ],
      "source": [
        "ip = \"APASD1234K\"\n",
        "sem = 1\n",
        "if len(ip) == 10:\n",
        "  for i in range(5):\n",
        "    if not ip[i].isalpha() or not ip[i].islower():\n",
        "      sem = 0\n",
        "      print(i)\n",
        "      break;\n",
        "  for i in range(6,9):\n",
        "    if not ip[i].isnumeric() or not int(ip[i])>0:\n",
        "      sem = 0\n",
        "      print(i)\n",
        "      break;\n",
        "print(sem)\n",
        "print('pan' if sem == 1 else 'not pan')\n",
        "\n",
        "\n",
        "\n",
        "\n"
      ]
    },
    {
      "cell_type": "code",
      "execution_count": null,
      "metadata": {
        "colab": {
          "base_uri": "https://localhost:8080/"
        },
        "id": "OEuPs-_7lz69",
        "outputId": "57c47d7e-9626-4b88-b69d-879983ed672f"
      },
      "outputs": [
        {
          "name": "stdout",
          "output_type": "stream",
          "text": [
            "i am kannan 12 test 45 numbers in 32345 group\n"
          ]
        }
      ],
      "source": [
        "ip = input()\n",
        "ip = ip.replace(\",\", \"\")\n",
        "ip = ip.replace(\".\", \"\")\n",
        "op = [int(i) for i in ip if i.isnumeric()]\n"
      ]
    },
    {
      "cell_type": "code",
      "execution_count": null,
      "metadata": {
        "colab": {
          "base_uri": "https://localhost:8080/"
        },
        "id": "1al-l0jAl7oq",
        "outputId": "b8f74941-ec9e-4c29-a271-7135c2e2ca08"
      },
      "outputs": [
        {
          "name": "stdout",
          "output_type": "stream",
          "text": [
            "32345\n"
          ]
        }
      ],
      "source": [
        "print(max(op))"
      ]
    },
    {
      "cell_type": "code",
      "execution_count": null,
      "metadata": {
        "colab": {
          "base_uri": "https://localhost:8080/"
        },
        "id": "Pl11owXm34jC",
        "outputId": "fe369ea7-570f-4552-a68e-05dbc801a7f2"
      },
      "outputs": [
        {
          "name": "stdout",
          "output_type": "stream",
          "text": [
            "abc def ghi jko mnep qur\n",
            "ABC def GHI jko MNEP qur\n"
          ]
        }
      ],
      "source": [
        "ip = input().split()\n",
        "op = list(ip[i-1].upper() if i%2==1 else ip[i-1].lower() for i in range(1,len(ip)+1))\n",
        "print(*op)"
      ]
    },
    {
      "cell_type": "code",
      "execution_count": null,
      "metadata": {
        "colab": {
          "base_uri": "https://localhost:8080/"
        },
        "id": "9Bcs-xoqS0-9",
        "outputId": "08a57f56-21f9-45b9-88c1-2df41d7aab04"
      },
      "outputs": [
        {
          "name": "stdout",
          "output_type": "stream",
          "text": [
            "abc def def def abc abc efj efj a\n",
            "{'abc': 3, 'def': 3, 'efj': 2, 'a': 1}\n",
            "[('abc', 3), ('def', 3), ('efj', 2), ('a', 1)]\n"
          ]
        }
      ],
      "source": [
        "ip = input().split()\n",
        "op = {}\n",
        "for i in ip:\n",
        "  if i in op:\n",
        "    op[i] += 1\n",
        "  else:\n",
        "    op[i] = 1\n",
        "op_sort = sorted(op.items(), key=lambda x:x[1], reverse = True)\n",
        "m = max(op.values())\n",
        "op_pr, st  = [], \"\"\n",
        "for i in range(len(ip)):\n",
        "  if op_sort[i][1] == m:\n",
        "    op_pr.append(op_sort[i])\n",
        "  else:\n",
        "    break\n",
        "for i in op_pr:\n",
        "  st += i[0] + ' ' + str(i[1]) + ' '\n",
        "print(st[:-1])"
      ]
    },
    {
      "cell_type": "code",
      "execution_count": null,
      "metadata": {
        "colab": {
          "base_uri": "https://localhost:8080/"
        },
        "id": "Jm-VV4ZJZMPJ",
        "outputId": "55aa119e-180d-486b-e950-f039c2d9af02"
      },
      "outputs": [
        {
          "name": "stdout",
          "output_type": "stream",
          "text": [
            "('def', 3) ('abc', 2) ('efg', 2) ('hij', 1)\n"
          ]
        }
      ],
      "source": [
        "print(*op_sort)"
      ]
    },
    {
      "cell_type": "code",
      "execution_count": null,
      "metadata": {
        "id": "qq-DdboCZluK"
      },
      "outputs": [],
      "source": [
        "m = max(op.values())"
      ]
    },
    {
      "cell_type": "code",
      "execution_count": null,
      "metadata": {
        "colab": {
          "base_uri": "https://localhost:8080/"
        },
        "id": "inx7g8bgiuXU",
        "outputId": "d4b011b4-6966-4d0f-c60a-8130b1361dd5"
      },
      "outputs": [
        {
          "name": "stdout",
          "output_type": "stream",
          "text": [
            "abc 3 def 3\n"
          ]
        }
      ],
      "source": [
        "st = \"\"\n",
        "for i in op_pr:\n",
        "  st += i[0] + ' ' + str(i[1]) + ' '\n",
        "print(st[:-1])\n"
      ]
    },
    {
      "cell_type": "code",
      "execution_count": null,
      "metadata": {
        "colab": {
          "base_uri": "https://localhost:8080/"
        },
        "id": "92Jul_AzlOXn",
        "outputId": "c1920480-5beb-4623-c81c-3a2635d5a1b9"
      },
      "outputs": [
        {
          "name": "stdout",
          "output_type": "stream",
          "text": [
            "XCODE\n",
            "XOE CD\n"
          ]
        }
      ],
      "source": [
        "ip = input()\n",
        "op_o, op_e = \"\", \"\"\n",
        "for i in enumerate(ip):\n",
        "  if i[0]%2 == 0:\n",
        "    op_e += i[1]\n",
        "  else:\n",
        "    op_o += i[1]\n",
        "print(op_e + \" \"+ op_o)\n",
        "\n",
        "\n"
      ]
    },
    {
      "cell_type": "code",
      "execution_count": null,
      "metadata": {
        "colab": {
          "base_uri": "https://localhost:8080/"
        },
        "id": "8_PUyMeKmvw9",
        "outputId": "d448a4eb-9c17-4856-dabf-aaf9dfec0aad"
      },
      "outputs": [
        {
          "data": {
            "text/plain": [
              "['a', 'b', 'c']"
            ]
          },
          "execution_count": 3,
          "metadata": {},
          "output_type": "execute_result"
        }
      ],
      "source": [
        "[*\"abc\"]"
      ]
    },
    {
      "cell_type": "code",
      "execution_count": null,
      "metadata": {
        "id": "KxN1QDW0nbqN"
      },
      "outputs": [],
      "source": [
        "st = \"test\"\n",
        "stl = [*st]"
      ]
    },
    {
      "cell_type": "code",
      "execution_count": null,
      "metadata": {
        "id": "SlAyipunnkqM"
      },
      "outputs": [],
      "source": [
        "stl"
      ]
    },
    {
      "cell_type": "code",
      "execution_count": null,
      "metadata": {
        "colab": {
          "base_uri": "https://localhost:8080/"
        },
        "id": "vHjThFU4VoHi",
        "outputId": "ef68d36d-fb81-4a27-8512-0f624beb9843"
      },
      "outputs": [
        {
          "name": "stdout",
          "output_type": "stream",
          "text": [
            "and def and de acd\n",
            "('and', 2)\n",
            "('def', 1)\n",
            "('de', 1)\n",
            "('acd', 1)\n",
            "{'and': 2, 'def': 1, 'de': 1, 'acd': 1}\n"
          ]
        }
      ],
      "source": [
        "ip = input().split()\n",
        "dic = {i:ip.count(i) for i in ip}\n",
        "for i in dic.items():\n",
        "  print(i)\n",
        "print(dic)\n"
      ]
    },
    {
      "cell_type": "code",
      "execution_count": null,
      "metadata": {
        "colab": {
          "base_uri": "https://localhost:8080/"
        },
        "id": "rbB_ETMSosTg",
        "outputId": "d1ce982e-a6db-47f9-eb40-a7e540b6c389"
      },
      "outputs": [
        {
          "name": "stdout",
          "output_type": "stream",
          "text": [
            "avcd er x\n",
            "dcva re x\n"
          ]
        }
      ],
      "source": [
        "ip = input().split()\n",
        "op = [i[::-1] for i in ip]\n",
        "print(*op)"
      ]
    },
    {
      "cell_type": "code",
      "execution_count": null,
      "metadata": {
        "colab": {
          "base_uri": "https://localhost:8080/"
        },
        "id": "Yf8Dz-5ypTMG",
        "outputId": "74b348e4-c37e-4019-a60d-61f9dee81c76"
      },
      "outputs": [
        {
          "name": "stdout",
          "output_type": "stream",
          "text": [
            "testtes\n",
            "tt\n",
            "3\n"
          ]
        }
      ],
      "source": [
        "ip = input()\n",
        "ip1 = input()\n",
        "print(ip.index(ip1) if ip1 in ip else -1)"
      ]
    },
    {
      "cell_type": "code",
      "execution_count": null,
      "metadata": {
        "colab": {
          "base_uri": "https://localhost:8080/"
        },
        "id": "UsCMxZBuqkb4",
        "outputId": "db3a9caa-72a1-4dc4-c3fb-01c782c3f0be"
      },
      "outputs": [
        {
          "name": "stdout",
          "output_type": "stream",
          "text": [
            "guvi\n",
            "['u', 'i']\n"
          ]
        }
      ],
      "source": [
        "ip = input()\n",
        "op = [i for i in ip if i.lower() in \"aeiou\"]\n",
        "op1 = [i for i in ip if i.lower() not in \"aeiou\"]\n",
        "op2 = \"\".join(i for i in op) + \"\".join(i for i in op1)\n",
        "print(op)\n"
      ]
    },
    {
      "cell_type": "code",
      "execution_count": null,
      "metadata": {
        "colab": {
          "base_uri": "https://localhost:8080/"
        },
        "id": "8-_nGpAltZYT",
        "outputId": "060e54ab-3e09-4a53-87c4-8f90a1b2ecb6"
      },
      "outputs": [
        {
          "name": "stdout",
          "output_type": "stream",
          "text": [
            "uigv\n"
          ]
        }
      ],
      "source": [
        "print(op2)"
      ]
    },
    {
      "cell_type": "code",
      "execution_count": null,
      "metadata": {
        "colab": {
          "base_uri": "https://localhost:8080/"
        },
        "id": "1daara9g9ugV",
        "outputId": "94002936-727e-4b07-f1b5-1d695a46534a"
      },
      "outputs": [
        {
          "name": "stdout",
          "output_type": "stream",
          "text": [
            "hello world\n",
            "world hello\n"
          ]
        }
      ],
      "source": [
        "ip = input().split()\n",
        "print(*ip[::-1])"
      ]
    },
    {
      "cell_type": "code",
      "execution_count": null,
      "metadata": {
        "colab": {
          "base_uri": "https://localhost:8080/"
        },
        "id": "-fRKagZXVuwq",
        "outputId": "349413f1-03ef-4463-bdba-43f8d6256c1b"
      },
      "outputs": [
        {
          "name": "stdout",
          "output_type": "stream",
          "text": [
            "Camel case\n",
            "[True, False]\n"
          ]
        }
      ],
      "source": [
        "ip = input().split()\n",
        "print([True if i[0].isupper() else False for i in ip])"
      ]
    },
    {
      "cell_type": "code",
      "execution_count": null,
      "metadata": {
        "colab": {
          "base_uri": "https://localhost:8080/"
        },
        "id": "mGaNBCH_B1wM",
        "outputId": "624a5ff3-5b14-41b5-8119-b79882166418"
      },
      "outputs": [
        {
          "data": {
            "text/plain": [
              "True"
            ]
          },
          "execution_count": 5,
          "metadata": {},
          "output_type": "execute_result"
        }
      ],
      "source": [
        "i1 = \"Test\"\n",
        "i1[0].isupper()"
      ]
    },
    {
      "cell_type": "code",
      "execution_count": null,
      "metadata": {
        "colab": {
          "base_uri": "https://localhost:8080/"
        },
        "id": "PPXgGADnEnIg",
        "outputId": "80779da4-04f0-4bed-95ec-6ac18258b3c4"
      },
      "outputs": [
        {
          "name": "stdout",
          "output_type": "stream",
          "text": [
            "this is is an is is example\n"
          ]
        }
      ],
      "source": [
        "ip = input().split()\n"
      ]
    },
    {
      "cell_type": "code",
      "execution_count": null,
      "metadata": {
        "colab": {
          "base_uri": "https://localhost:8080/"
        },
        "id": "Q3gz2zDOE5_L",
        "outputId": "2234c81e-598a-41e8-ff31-fb6a45c2a201"
      },
      "outputs": [
        {
          "name": "stdout",
          "output_type": "stream",
          "text": [
            "0 this\n",
            "1 is\n",
            "2 is\n",
            "3 an\n",
            "4 is\n",
            "5 is\n",
            "6 example\n"
          ]
        }
      ],
      "source": [
        "for i in enumerate(ip):\n",
        "  print(i[0],i[1])"
      ]
    },
    {
      "cell_type": "code",
      "execution_count": null,
      "metadata": {
        "id": "6M9O_fn9FeZh"
      },
      "outputs": [],
      "source": [
        "op = [i[1][::-1] if i[0]%2==0 else i[1] for i in enumerate(ip)]"
      ]
    },
    {
      "cell_type": "code",
      "execution_count": null,
      "metadata": {
        "colab": {
          "base_uri": "https://localhost:8080/"
        },
        "id": "j9ZyEn7TFkhX",
        "outputId": "98a80225-8767-4859-fcfd-71f6fcc9d9c7"
      },
      "outputs": [
        {
          "name": "stdout",
          "output_type": "stream",
          "text": [
            "['siht', 'is', 'si', 'an', 'si', 'is', 'elpmaxe']\n"
          ]
        }
      ],
      "source": [
        "print(op)"
      ]
    },
    {
      "cell_type": "code",
      "execution_count": null,
      "metadata": {
        "colab": {
          "base_uri": "https://localhost:8080/"
        },
        "id": "YnrM1IeIGRLj",
        "outputId": "72a17664-64ae-4b75-835f-000cfe060ee3"
      },
      "outputs": [
        {
          "name": "stdout",
          "output_type": "stream",
          "text": [
            "guvi\n"
          ]
        }
      ],
      "source": [
        "ip = input()\n",
        "op = sum(ord(i) for i in ip)"
      ]
    },
    {
      "cell_type": "code",
      "execution_count": null,
      "metadata": {
        "colab": {
          "base_uri": "https://localhost:8080/"
        },
        "id": "gKoSJBxmGX-D",
        "outputId": "3aa9e80e-6fca-40e0-d3bb-0178d96e6308"
      },
      "outputs": [
        {
          "name": "stdout",
          "output_type": "stream",
          "text": [
            "443\n"
          ]
        }
      ],
      "source": [
        "print(op)"
      ]
    },
    {
      "cell_type": "code",
      "execution_count": null,
      "metadata": {
        "colab": {
          "base_uri": "https://localhost:8080/"
        },
        "id": "G_yTHCMUbYoq",
        "outputId": "f771ab67-4c6e-45ed-b4dd-d3b02bea6e08"
      },
      "outputs": [
        {
          "name": "stdout",
          "output_type": "stream",
          "text": [
            "ebciudbaef\n",
            "[(0, 'e'), (3, 'i'), (4, 'u'), (7, 'a'), (8, 'e')]\n",
            "[(7, 'a'), (0, 'e'), (8, 'e'), (3, 'i'), (4, 'u')]\n",
            "abceedbiuf\n"
          ]
        }
      ],
      "source": [
        "ip = list(input())\n",
        "vow = [(i[0],i[1]) for i in enumerate(ip) if i[1].lower() in \"aeiou\"]\n",
        "sort_vow = sorted(vow, key=lambda x:x[1])\n",
        "print(vow)\n",
        "print(sort_vow)\n",
        "for i in range(len(vow)):\n",
        "  ip[vow[i][0]] = sort_vow[i][1]\n",
        "print(\"\".join(i for i in ip))"
      ]
    },
    {
      "cell_type": "code",
      "execution_count": null,
      "metadata": {
        "colab": {
          "base_uri": "https://localhost:8080/",
          "height": 262
        },
        "id": "6wZu99VzhYr-",
        "outputId": "ec4b2549-6f60-4af7-b32d-bfc6bed65975"
      },
      "outputs": [
        {
          "name": "stdout",
          "output_type": "stream",
          "text": [
            "1\n",
            "2\n",
            "3\n"
          ]
        },
        {
          "ename": "StopIteration",
          "evalue": "ignored",
          "output_type": "error",
          "traceback": [
            "\u001b[0;31m---------------------------------------------------------------------------\u001b[0m",
            "\u001b[0;31mStopIteration\u001b[0m                             Traceback (most recent call last)",
            "\u001b[0;32m<ipython-input-12-1100fa6c8bd7>\u001b[0m in \u001b[0;36m<cell line: 5>\u001b[0;34m()\u001b[0m\n\u001b[1;32m      3\u001b[0m \u001b[0mprint\u001b[0m\u001b[0;34m(\u001b[0m\u001b[0mnext\u001b[0m\u001b[0;34m(\u001b[0m\u001b[0mi\u001b[0m\u001b[0;34m)\u001b[0m\u001b[0;34m)\u001b[0m\u001b[0;34m\u001b[0m\u001b[0;34m\u001b[0m\u001b[0m\n\u001b[1;32m      4\u001b[0m \u001b[0mprint\u001b[0m\u001b[0;34m(\u001b[0m\u001b[0mnext\u001b[0m\u001b[0;34m(\u001b[0m\u001b[0mi\u001b[0m\u001b[0;34m)\u001b[0m\u001b[0;34m)\u001b[0m\u001b[0;34m\u001b[0m\u001b[0;34m\u001b[0m\u001b[0m\n\u001b[0;32m----> 5\u001b[0;31m \u001b[0mprint\u001b[0m\u001b[0;34m(\u001b[0m\u001b[0mnext\u001b[0m\u001b[0;34m(\u001b[0m\u001b[0mi\u001b[0m\u001b[0;34m)\u001b[0m\u001b[0;34m)\u001b[0m\u001b[0;34m\u001b[0m\u001b[0;34m\u001b[0m\u001b[0m\n\u001b[0m",
            "\u001b[0;31mStopIteration\u001b[0m: "
          ]
        }
      ],
      "source": [
        "i = iter([1,2,3])\n",
        "print(next(i))\n",
        "print(next(i))\n",
        "print(next(i))\n",
        "print(next(i))"
      ]
    },
    {
      "cell_type": "code",
      "execution_count": null,
      "metadata": {
        "colab": {
          "base_uri": "https://localhost:8080/"
        },
        "id": "2pCwsQX3gn6C",
        "outputId": "f3ef80c4-9bf6-4624-fe67-4d4ba11114a8"
      },
      "outputs": [
        {
          "name": "stdout",
          "output_type": "stream",
          "text": [
            "a b c e e d b i u f\n"
          ]
        }
      ],
      "source": [
        "print(*ip)"
      ]
    },
    {
      "cell_type": "code",
      "execution_count": null,
      "metadata": {
        "colab": {
          "base_uri": "https://localhost:8080/"
        },
        "id": "I8iV3xy7KWl0",
        "outputId": "f3665e47-75a2-41ba-d9b3-d8c3f01a57a8"
      },
      "outputs": [
        {
          "name": "stdout",
          "output_type": "stream",
          "text": [
            "ABCDEGXYZ\n",
            "FHIJKLMNOPQRSTUVW\n",
            "yes\n"
          ]
        }
      ],
      "source": [
        "ip1, ip2 = input(), input()\n",
        "tmp = sorted(ip1+ip2)\n",
        "op = \"yes\"\n",
        "for i in zip(tmp,\"ABCDEFGHIJKLMNOPQRSTUVWXYZ\"):\n",
        "  if i[0]!=i[1]:\n",
        "    op = \"no\"\n",
        "    break\n",
        "print(op)"
      ]
    },
    {
      "cell_type": "code",
      "execution_count": null,
      "metadata": {
        "colab": {
          "base_uri": "https://localhost:8080/"
        },
        "id": "qVHGnzFpiL-p",
        "outputId": "fb0a0b31-9526-4ae4-b700-3564fa67743b"
      },
      "outputs": [
        {
          "name": "stdout",
          "output_type": "stream",
          "text": [
            "5\n",
            "testing te abcd ase tes sed\n",
            "a\n",
            "2\n"
          ]
        }
      ],
      "source": [
        "n, ip1, ip2 = int(input()), input().split(), input()\n",
        "op = list(filter(lambda x:x.startswith(ip2),ip1))\n",
        "print(len(op))"
      ]
    },
    {
      "cell_type": "code",
      "execution_count": null,
      "metadata": {
        "id": "I4TGfwe7iffO"
      },
      "outputs": [],
      "source": [
        "i = \"testing\""
      ]
    },
    {
      "cell_type": "code",
      "execution_count": null,
      "metadata": {
        "colab": {
          "base_uri": "https://localhost:8080/"
        },
        "id": "8btiFvINiiBT",
        "outputId": "3faa1655-6882-47ba-f2ca-2a6ef20ad1f3"
      },
      "outputs": [
        {
          "data": {
            "text/plain": [
              "True"
            ]
          },
          "execution_count": 2,
          "metadata": {},
          "output_type": "execute_result"
        }
      ],
      "source": [
        "i.startswith(\"test\")"
      ]
    },
    {
      "cell_type": "code",
      "execution_count": null,
      "metadata": {
        "colab": {
          "base_uri": "https://localhost:8080/"
        },
        "id": "CnqmKPtGjQxb",
        "outputId": "9e6aeab5-61d8-4d55-9339-af377b5ee2e8"
      },
      "outputs": [
        {
          "name": "stdout",
          "output_type": "stream",
          "text": [
            "['testing', 'tesafkjsdh', 'te']\n"
          ]
        }
      ],
      "source": [
        "l = [\"testing\",\"tesafkjsdh\",\"abcda\",\"te\"]\n",
        "op = list(filter(lambda x:x.startswith(\"te\"), l))\n",
        "print(op)"
      ]
    },
    {
      "cell_type": "code",
      "execution_count": null,
      "metadata": {
        "colab": {
          "base_uri": "https://localhost:8080/"
        },
        "id": "PRmz83NwmEw0",
        "outputId": "9e5922cc-316d-4a97-99a7-a1cc32c927d8"
      },
      "outputs": [
        {
          "name": "stdout",
          "output_type": "stream",
          "text": [
            "5 4 3 2 1 7 6 10 8 9\n",
            "1\n"
          ]
        }
      ],
      "source": [
        "ip = list(map(int, input().split()))\n",
        "print(min(ip))"
      ]
    },
    {
      "cell_type": "code",
      "execution_count": null,
      "metadata": {
        "colab": {
          "base_uri": "https://localhost:8080/"
        },
        "id": "8ieQeXsPmh7f",
        "outputId": "dc2f1a56-757a-4d99-e0c7-055dc3834d1c"
      },
      "outputs": [
        {
          "name": "stdout",
          "output_type": "stream",
          "text": [
            "11\n",
            "66\n"
          ]
        }
      ],
      "source": [
        "n = int(input())\n",
        "print(n*(n+1)//2)"
      ]
    },
    {
      "cell_type": "code",
      "execution_count": null,
      "metadata": {
        "colab": {
          "base_uri": "https://localhost:8080/"
        },
        "id": "pc7jGF8OnU1F",
        "outputId": "ce3f2da7-77d1-4bc3-d818-64b7f1e34845"
      },
      "outputs": [
        {
          "name": "stdout",
          "output_type": "stream",
          "text": [
            "7\n",
            "1 2 3 4 6 0 0\n",
            "1\n"
          ]
        }
      ],
      "source": [
        "n, ip = int(input()), list(map(int, input().split()))\n",
        "print(1 if n>6 and sum(ip[:3])==sum(ip[-3:]) else 0)"
      ]
    },
    {
      "cell_type": "code",
      "execution_count": null,
      "metadata": {
        "id": "Gjpk_ZY3n3Mp"
      },
      "outputs": [],
      "source": [
        "lis = [1,2,3,4,6,0,0]"
      ]
    },
    {
      "cell_type": "code",
      "execution_count": null,
      "metadata": {
        "colab": {
          "base_uri": "https://localhost:8080/"
        },
        "id": "3fr_Ub75n8_V",
        "outputId": "6fc080b3-f7e2-4707-e142-5b19124bcfbd"
      },
      "outputs": [
        {
          "data": {
            "text/plain": [
              "[6, 0, 0]"
            ]
          },
          "execution_count": 17,
          "metadata": {},
          "output_type": "execute_result"
        }
      ],
      "source": [
        "lis[-3:]"
      ]
    },
    {
      "cell_type": "code",
      "execution_count": null,
      "metadata": {
        "colab": {
          "base_uri": "https://localhost:8080/"
        },
        "id": "Hb7SrYwH1P3I",
        "outputId": "7ceebe5a-c16a-4b48-ba0a-da4bd4731821"
      },
      "outputs": [
        {
          "name": "stdout",
          "output_type": "stream",
          "text": [
            "9765625\n"
          ]
        }
      ],
      "source": [
        "print(5**10)"
      ]
    },
    {
      "cell_type": "code",
      "execution_count": null,
      "metadata": {
        "colab": {
          "base_uri": "https://localhost:8080/"
        },
        "id": "yugd-u1HCgHE",
        "outputId": "35e78700-e1b0-4dbd-a9e8-1a9b40614215"
      },
      "outputs": [
        {
          "name": "stdout",
          "output_type": "stream",
          "text": [
            "self operation : mul\n",
            "200\n",
            "self operation : sub\n",
            "9\n",
            "testvalue1\n"
          ]
        }
      ],
      "source": [
        "class Arithmetic:\n",
        "  a = 0\n",
        "  b = 0\n",
        "  operation = \"add\"\n",
        "\n",
        "  def __init__(self, a=0, b=0, op=\"add\"):\n",
        "    self.a = a\n",
        "    self.b = b\n",
        "    self.operation = op\n",
        "\n",
        "  def func(self):\n",
        "    print(\"self operation : \" + self.operation)\n",
        "    if self.operation == \"add\":\n",
        "      return self.a + self.b\n",
        "    elif self.operation == \"sub\":\n",
        "      return self.a - self.b\n",
        "    elif self.operation == \"mul\":\n",
        "      return self.a*self.b\n",
        "\n",
        "if __name__==\"__main__\":\n",
        "  obj = Arithmetic()\n",
        "  obj.a = 10\n",
        "  obj.b = 20\n",
        "  obj.operation = \"mul\"\n",
        "  print(obj.func())\n",
        "\n",
        "  obj1 = Arithmetic(20,11,\"sub\")\n",
        "  print(obj1.func())\n",
        "\n",
        "  obj1.test = \"testvalue1\"\n",
        "  print(obj1.test)\n"
      ]
    },
    {
      "cell_type": "code",
      "execution_count": null,
      "metadata": {
        "colab": {
          "base_uri": "https://localhost:8080/"
        },
        "id": "TQ0VBKz7CLC7",
        "outputId": "321d73ee-e138-4980-86cf-164b53bb8757"
      },
      "outputs": [
        {
          "name": "stdout",
          "output_type": "stream",
          "text": [
            "4\n",
            "abc  aa aa abc\n",
            "[False, True, False]\n"
          ]
        }
      ],
      "source": [
        "n = int(input())\n",
        "ip = input().split()\n",
        "tmp = [True  if ip[i]==ip[i+1] else False for i in range(n-1)]\n",
        "print(tmp)\n"
      ]
    },
    {
      "cell_type": "code",
      "execution_count": null,
      "metadata": {
        "colab": {
          "base_uri": "https://localhost:8080/"
        },
        "id": "QWfbL5GZPmk6",
        "outputId": "a1931a00-e298-4cb8-e78b-6e61a50f7e8c"
      },
      "outputs": [
        {
          "name": "stdout",
          "output_type": "stream",
          "text": [
            "abxcabx\n",
            "abx\n",
            "abx\n",
            "('a', 'a')\n",
            "('b', 'b')\n",
            "('x', 'x')\n"
          ]
        }
      ],
      "source": [
        "ip = input()\n",
        "if len(ip)%2!=0:\n",
        "  ip1, ip2 = ip[:len(ip)//2], ip[len(ip)//2+1:]\n",
        "  print(ip1)\n",
        "  print(ip2)\n",
        "  for i in zip(ip1,ip2):\n",
        "    print(i)\n",
        "\n"
      ]
    },
    {
      "cell_type": "code",
      "execution_count": null,
      "metadata": {
        "colab": {
          "base_uri": "https://localhost:8080/"
        },
        "id": "tDa_2H_HRmQa",
        "outputId": "5d1a75d4-e7eb-4ab2-b809-ceb776936427"
      },
      "outputs": [
        {
          "name": "stdout",
          "output_type": "stream",
          "text": [
            "3 3\n",
            "87 21 34\n",
            "89 32 78\n",
            "12 23 45\n",
            "[[87, 21, 34], [89, 32, 78], [12, 23, 45]]\n"
          ]
        }
      ],
      "source": [
        "mn = input().split()\n",
        "m,n = int(mn[0]), int(mn[1])\n",
        "ip = [list(map(int,input().split())) for i in range(m)]\n",
        "print(ip)"
      ]
    },
    {
      "cell_type": "code",
      "execution_count": null,
      "metadata": {
        "id": "XnYqSXXCT7xN"
      },
      "outputs": [],
      "source": [
        "tmp = [j for sub in ip for j in sub]"
      ]
    },
    {
      "cell_type": "code",
      "execution_count": null,
      "metadata": {
        "id": "s2kZrJVsUEhq"
      },
      "outputs": [],
      "source": [
        "op = sorted(tmp)"
      ]
    },
    {
      "cell_type": "code",
      "execution_count": null,
      "metadata": {
        "id": "Hj4p1TBfUV6k"
      },
      "outputs": [],
      "source": [
        "op1 = [op[i:i + n] for i in range(0, len(op), n)]"
      ]
    },
    {
      "cell_type": "code",
      "execution_count": null,
      "metadata": {
        "colab": {
          "base_uri": "https://localhost:8080/"
        },
        "id": "0RW_7ZYveUda",
        "outputId": "0f38ec2a-60ff-4b07-f7cd-b7dc4c4676e6"
      },
      "outputs": [
        {
          "name": "stdout",
          "output_type": "stream",
          "text": [
            "12 21 23\n",
            "32 34 45\n",
            "78 87 89\n"
          ]
        }
      ],
      "source": [
        "for i in op1:\n",
        "  print(*i)"
      ]
    },
    {
      "cell_type": "code",
      "execution_count": null,
      "metadata": {
        "colab": {
          "base_uri": "https://localhost:8080/"
        },
        "id": "JTxS_a-6fNTG",
        "outputId": "b560cfae-4504-47a3-c873-66e5f6cadd38"
      },
      "outputs": [
        {
          "name": "stdout",
          "output_type": "stream",
          "text": [
            "3\n",
            "Karthik 23000 rohan 81734 varshini 12343\n"
          ]
        }
      ],
      "source": [
        "n = int(input())\n",
        "ip = input().split()\n",
        "op = [(ip[i*2],ip[i*2+1]) for i in range(n)]"
      ]
    },
    {
      "cell_type": "code",
      "execution_count": null,
      "metadata": {
        "id": "lBH8-A64ftb_"
      },
      "outputs": [],
      "source": [
        "op_srt = sorted(op, key = lambda x:int(x[1]))"
      ]
    },
    {
      "cell_type": "code",
      "execution_count": null,
      "metadata": {
        "colab": {
          "base_uri": "https://localhost:8080/"
        },
        "id": "-BwSt23Af58m",
        "outputId": "625ee21c-df83-4924-8aac-736b1a7112ce"
      },
      "outputs": [
        {
          "name": "stdout",
          "output_type": "stream",
          "text": [
            "varshini\n",
            "Karthik\n",
            "rohan\n"
          ]
        }
      ],
      "source": [
        "for i in op_srt:\n",
        "  print(i[0])"
      ]
    },
    {
      "cell_type": "code",
      "execution_count": null,
      "metadata": {
        "id": "xYiB61ejg6fF"
      },
      "outputs": [],
      "source": [
        "n = int(input())\n",
        "ip = list(map(int, input().split()))\n",
        "print(max(ip))"
      ]
    },
    {
      "cell_type": "code",
      "execution_count": null,
      "metadata": {
        "colab": {
          "base_uri": "https://localhost:8080/"
        },
        "id": "wfA-O0D6iUei",
        "outputId": "1f56a0f8-ce1d-4abf-c1b7-13b7c368fa96"
      },
      "outputs": [
        {
          "name": "stdout",
          "output_type": "stream",
          "text": [
            "5\n",
            "3 9 1 44 6\n"
          ]
        }
      ],
      "source": [
        "n = int(input())\n",
        "ip = list(map(int, input().split()))\n",
        "tmp = [ip[i] for i in range(n) if i%2==0]\n",
        "tmp_srt = sorted(tmp)"
      ]
    },
    {
      "cell_type": "code",
      "execution_count": null,
      "metadata": {
        "id": "MRrJlDDmjEua"
      },
      "outputs": [],
      "source": [
        "op = [tmp_srt[i//2] if i%2==0 else ip[i] for i in range(n)]"
      ]
    },
    {
      "cell_type": "code",
      "execution_count": null,
      "metadata": {
        "colab": {
          "base_uri": "https://localhost:8080/"
        },
        "id": "gW8xbBxHjRrB",
        "outputId": "fad3a917-a390-41d9-fd4a-ee80f5315f6b"
      },
      "outputs": [
        {
          "name": "stdout",
          "output_type": "stream",
          "text": [
            "1 9 3 44 6\n"
          ]
        }
      ],
      "source": [
        "print(*op)"
      ]
    },
    {
      "cell_type": "code",
      "execution_count": null,
      "metadata": {
        "colab": {
          "base_uri": "https://localhost:8080/"
        },
        "id": "JalO-n_8Spfp",
        "outputId": "1de0410a-c42c-4068-dbc8-9d3403677158"
      },
      "outputs": [
        {
          "name": "stdout",
          "output_type": "stream",
          "text": [
            "7\n",
            "10 7 9 3 2 1 15\n",
            "[7, -1, 3, 2, 1, -1]\n"
          ]
        }
      ],
      "source": [
        "n = int(input())\n",
        "ip = list(map(int, input().split()))\n",
        "op = [ip[i+1] if ip[i]>ip[i+1] else -1 for i in range(n-1)]\n",
        "print(op)"
      ]
    },
    {
      "cell_type": "code",
      "execution_count": null,
      "metadata": {
        "colab": {
          "base_uri": "https://localhost:8080/"
        },
        "id": "2er9AYnii0Nz",
        "outputId": "30a135fb-d4bf-400a-f7e2-7fa311c39141"
      },
      "outputs": [
        {
          "name": "stdout",
          "output_type": "stream",
          "text": [
            "input\n",
            "tupni\n"
          ]
        }
      ],
      "source": [
        "ip = input()\n",
        "rev = lambda x: \"\".join(x[i] for i in range(len(x)-1,-1,-1))\n",
        "print(rev(ip))"
      ]
    },
    {
      "cell_type": "code",
      "execution_count": null,
      "metadata": {
        "colab": {
          "base_uri": "https://localhost:8080/"
        },
        "id": "nH8_LSovmRaH",
        "outputId": "040aae01-a1e7-431c-bbb8-88a6854cb3df"
      },
      "outputs": [
        {
          "name": "stdout",
          "output_type": "stream",
          "text": [
            "3\n",
            "2\n",
            "98 12\n",
            "6\n",
            "1 2 3 8 5 9\n",
            "1\n",
            "11\n",
            "12 98 1 2 3 5 8 9 11\n"
          ]
        }
      ],
      "source": [
        "n = int(input())\n",
        "op = []\n",
        "for i in range(n):\n",
        "  n1 = input()\n",
        "  ip = list(map(int, input().split()))\n",
        "  op.extend(sorted(ip))\n",
        "print(*op)"
      ]
    },
    {
      "cell_type": "code",
      "execution_count": null,
      "metadata": {
        "colab": {
          "base_uri": "https://localhost:8080/"
        },
        "id": "nrx6Y_oHnURr",
        "outputId": "d8e6a231-6458-4154-8747-db504403ab19"
      },
      "outputs": [
        {
          "name": "stdout",
          "output_type": "stream",
          "text": [
            "7\n",
            "1 -2 -3 -4 5 6 -7\n",
            "4\n",
            "-2 -2 -3 -4\n"
          ]
        }
      ],
      "source": [
        "n1 = int(input())\n",
        "ip = list(map(int, input().split()))\n",
        "n = int(input())\n",
        "op = []\n",
        "for i in range(len(ip)-n+1):\n",
        "  tmp = list(filter(lambda x:x < 0,ip[i:i+n]))\n",
        "  op.append(tmp[0] if len(tmp)>0 else 0)\n",
        "print(*op)"
      ]
    },
    {
      "cell_type": "code",
      "execution_count": null,
      "metadata": {
        "colab": {
          "base_uri": "https://localhost:8080/"
        },
        "id": "HqBnYlz2vLoB",
        "outputId": "56a8a838-8611-4ba9-9e7b-ff7398516e70"
      },
      "outputs": [
        {
          "name": "stdout",
          "output_type": "stream",
          "text": [
            "5\n",
            "1 9 16 25 46\n",
            "2 3 4 5 6\n",
            "11\n"
          ]
        }
      ],
      "source": [
        "n = int(input())\n",
        "ip1 = list(map(int, input().split()))\n",
        "ip2 = list(map(int, input().split()))\n",
        "ip1.extend(ip2)\n",
        "tmp = sorted(ip1)\n",
        "print(tmp[len(tmp)//2-1]+ tmp[len(tmp)//2])\n"
      ]
    },
    {
      "cell_type": "code",
      "execution_count": null,
      "metadata": {
        "colab": {
          "base_uri": "https://localhost:8080/"
        },
        "id": "1TAU9x0iwF04",
        "outputId": "e84f0ecb-30f3-4a0f-d6c5-92093e9490b8"
      },
      "outputs": [
        {
          "name": "stdout",
          "output_type": "stream",
          "text": [
            "None\n"
          ]
        }
      ],
      "source": [
        "print(tmp)"
      ]
    },
    {
      "cell_type": "code",
      "execution_count": null,
      "metadata": {
        "colab": {
          "base_uri": "https://localhost:8080/"
        },
        "id": "xgjG3-nbwsHe",
        "outputId": "e59bd86c-a45d-4105-a705-da57ff437a5e"
      },
      "outputs": [
        {
          "name": "stdout",
          "output_type": "stream",
          "text": [
            "abc def\n"
          ]
        }
      ],
      "source": [
        "ip1, ip2 = input().split()"
      ]
    },
    {
      "cell_type": "code",
      "execution_count": null,
      "metadata": {
        "colab": {
          "base_uri": "https://localhost:8080/"
        },
        "id": "PO_t_tY1w1Qg",
        "outputId": "1e5de401-9a1d-4480-bcfd-4c8df0f0f3af"
      },
      "outputs": [
        {
          "name": "stdout",
          "output_type": "stream",
          "text": [
            "abcdef fedabc\n",
            "no\n"
          ]
        }
      ],
      "source": [
        "ip1, ip2 = input().split()\n",
        "op = \"yes\"\n",
        "if len(ip1)==len(ip2):\n",
        "  for i in range(len(ip1)):\n",
        "    if min(ip1[i:])!=min(ip2[i:]):\n",
        "      op = \"no\"\n",
        "      break\n",
        "else:\n",
        "  op = \"no\"\n",
        "print(op)"
      ]
    },
    {
      "cell_type": "code",
      "execution_count": null,
      "metadata": {
        "id": "8Q-adSzBxyBQ"
      },
      "outputs": [],
      "source": [
        "tmp = list(ip1).remove(min(ip1))"
      ]
    },
    {
      "cell_type": "code",
      "execution_count": null,
      "metadata": {
        "colab": {
          "base_uri": "https://localhost:8080/"
        },
        "id": "KTLMZpgW2GX5",
        "outputId": "e3ecbcbd-46a0-4c0b-fd87-6f46765f1e60"
      },
      "outputs": [
        {
          "name": "stdout",
          "output_type": "stream",
          "text": [
            "eadacb eadecb\n",
            "no\n"
          ]
        }
      ],
      "source": [
        "ip = input().split()\n",
        "ip1, ip2 = list(ip[0]), list(ip[1])\n",
        "op = \"yes\"\n",
        "if len(ip1)==len(ip2):\n",
        "  for i in range(len(ip1)):\n",
        "    if min(ip1)!=min(ip2):\n",
        "      op = \"no\"\n",
        "      break\n",
        "    else:\n",
        "      ip1.remove(min(ip1))\n",
        "      ip2.remove(min(ip2))\n",
        "else:\n",
        "  op = \"no\"\n",
        "print(op)\n"
      ]
    },
    {
      "cell_type": "code",
      "execution_count": null,
      "metadata": {
        "colab": {
          "base_uri": "https://localhost:8080/"
        },
        "id": "30xdmV4Y3bhZ",
        "outputId": "ab186349-d638-4480-eaa0-8c6eb4a27ca0"
      },
      "outputs": [
        {
          "data": {
            "text/plain": [
              "['r', 'a', 'v', 'e', 's']"
            ]
          },
          "execution_count": 48,
          "metadata": {},
          "output_type": "execute_result"
        }
      ],
      "source": [
        "ip2"
      ]
    },
    {
      "cell_type": "code",
      "execution_count": null,
      "metadata": {
        "colab": {
          "base_uri": "https://localhost:8080/"
        },
        "id": "V-0s_CNMjhwK",
        "outputId": "ffdcbb47-3447-4237-adc3-e83f612d63b2"
      },
      "outputs": [
        {
          "name": "stdout",
          "output_type": "stream",
          "text": [
            "2\n",
            "2 4 8\n",
            "14\n"
          ]
        }
      ],
      "source": [
        "n = int(input())\n",
        "ip = list(map(int,input().split()))\n",
        "op = bin(0)\n",
        "for i in ip:\n",
        "  op = bin(int(op,2)|i)\n",
        "print(int(op,2))\n"
      ]
    },
    {
      "cell_type": "code",
      "execution_count": null,
      "metadata": {
        "colab": {
          "base_uri": "https://localhost:8080/"
        },
        "id": "3lpPn4HPmfc1",
        "outputId": "e5d92756-3adf-4bb6-aca4-681b153e8b0b"
      },
      "outputs": [
        {
          "name": "stdout",
          "output_type": "stream",
          "text": [
            "3 4 6\n",
            "no\n"
          ]
        }
      ],
      "source": [
        "a,b,c = list(map(int,input().split()))\n",
        "print(\"yes\" if (a*a + b*b)==(c*c) else \"no\")"
      ]
    },
    {
      "cell_type": "code",
      "execution_count": null,
      "metadata": {
        "colab": {
          "base_uri": "https://localhost:8080/"
        },
        "id": "trp7a06innPx",
        "outputId": "f20498e2-d8a7-4f8e-d01f-e7206fb5636d"
      },
      "outputs": [
        {
          "name": "stdout",
          "output_type": "stream",
          "text": [
            "54 24\n",
            "6\n"
          ]
        }
      ],
      "source": [
        "a,b = list(map(int,input().split()))\n",
        "sml = b if a>b else a\n",
        "for i in range(1,sml+1):\n",
        "  if((a%i==0) and (b%i==0)):\n",
        "    hcf = i\n",
        "print(hcf)"
      ]
    },
    {
      "cell_type": "code",
      "execution_count": null,
      "metadata": {
        "colab": {
          "base_uri": "https://localhost:8080/"
        },
        "id": "PGaPdtf-sT5W",
        "outputId": "c2637a6c-2308-4bf7-d02a-a30cf141efbc"
      },
      "outputs": [
        {
          "name": "stdout",
          "output_type": "stream",
          "text": [
            "9 11\n",
            "even\n"
          ]
        }
      ],
      "source": [
        "a,b = list(map(int,input().split()))\n",
        "print(\"odd\" if (a+b)%2==1 else \"even\")"
      ]
    },
    {
      "cell_type": "code",
      "execution_count": null,
      "metadata": {
        "colab": {
          "base_uri": "https://localhost:8080/"
        },
        "id": "4spiIID8FVgo",
        "outputId": "aef538cb-7a2e-4622-f7f0-3304d0c0d848"
      },
      "outputs": [
        {
          "name": "stdout",
          "output_type": "stream",
          "text": [
            "3 4 5\n",
            "yes\n"
          ]
        }
      ],
      "source": [
        "a,b,c = list(map(int,input().split()))\n",
        "print(\"yes\" if a!=b and b!=c and a!=c else \"no\")"
      ]
    },
    {
      "cell_type": "code",
      "execution_count": null,
      "metadata": {
        "colab": {
          "base_uri": "https://localhost:8080/"
        },
        "id": "7oD5oWvJGvAI",
        "outputId": "3a9a24a2-3c19-41fb-cf2c-adbf31e94902"
      },
      "outputs": [
        {
          "name": "stdout",
          "output_type": "stream",
          "text": [
            "6 3\n",
            "1 3 4 5 6 2 \n",
            "1\n",
            "-1\n"
          ]
        }
      ],
      "source": [
        "a,b = list(map(int,input().split()))\n",
        "ip = list(map(int,input().split()))\n",
        "op = sum(1 for i in ip if i==b)\n",
        "print(op-1 if op>0 else -1)"
      ]
    },
    {
      "cell_type": "code",
      "execution_count": null,
      "metadata": {
        "colab": {
          "base_uri": "https://localhost:8080/"
        },
        "id": "rNsLcpOUZAvJ",
        "outputId": "5d595ced-50fa-4e48-f0fc-e3c4ff856bf8"
      },
      "outputs": [
        {
          "name": "stdout",
          "output_type": "stream",
          "text": [
            "48\n",
            "64\n"
          ]
        }
      ],
      "source": [
        "import math\n",
        "n = int(input())\n",
        "tmp = int(math.log2(n))\n",
        "print(n if (2**tmp)==n else 2**(tmp+1))\n"
      ]
    },
    {
      "cell_type": "code",
      "execution_count": null,
      "metadata": {
        "colab": {
          "base_uri": "https://localhost:8080/"
        },
        "id": "1mGIg3bWRtCd",
        "outputId": "8e06db6f-a2a0-434d-d0e6-c7510d2a89b7"
      },
      "outputs": [
        {
          "name": "stdout",
          "output_type": "stream",
          "text": [
            "7\n",
            "1 2 3 4 5 6 7\n",
            "[2, 1, 4, 3, 6, 5, 7]\n"
          ]
        }
      ],
      "source": [
        "n = int(input())\n",
        "ip = list(map(int,input().split()))\n",
        "for i in range(0,n-1,2):\n",
        "  ip[i],ip[i+1] = ip[i+1],ip[i]\n",
        "print(*ip)"
      ]
    },
    {
      "cell_type": "code",
      "execution_count": null,
      "metadata": {
        "colab": {
          "base_uri": "https://localhost:8080/"
        },
        "id": "rcWUHZS5TfzT",
        "outputId": "bb90574d-af81-44c2-fe46-21d41587d565"
      },
      "outputs": [
        {
          "name": "stdout",
          "output_type": "stream",
          "text": [
            "234 56789\n",
            "00234 56789\n",
            "('4', '9')\n",
            "('3', '8')\n",
            "('2', '7')\n",
            "('0', '6')\n",
            "('0', '5')\n",
            "['3', '1', '9', '6', '5']\n"
          ]
        }
      ],
      "source": [
        "a,b = input().split()\n",
        "if len(a)>len(b):\n",
        "  b = b.rjust(len(a),'0')\n",
        "else:\n",
        "  a = a.rjust(len(b),'0')\n",
        "print(a,b)\n",
        "tmp = []\n",
        "for i in list(zip(a,b))[::-1]:\n",
        "  print(i)\n",
        "  tmp.append(str(int(i[0])+int(i[1]))[-1])\n",
        "print(tmp)\n",
        "op = \"\".join(i for i in tmp[::-1])\n",
        "print(int(op))"
      ]
    },
    {
      "cell_type": "code",
      "execution_count": null,
      "metadata": {
        "colab": {
          "base_uri": "https://localhost:8080/"
        },
        "id": "KjzuiHKLQlnP",
        "outputId": "eea95f3a-916e-457e-e396-e1bf374cd880"
      },
      "outputs": [
        {
          "name": "stdout",
          "output_type": "stream",
          "text": [
            "5\n",
            "2 -1 3 -4 -5\n",
            "-10\n"
          ]
        }
      ],
      "source": [
        "n = int(input())\n",
        "ip = list(map(int, input().split()))\n",
        "op = sum(filter(lambda x:x<0,ip))\n",
        "print(op)"
      ]
    },
    {
      "cell_type": "code",
      "execution_count": null,
      "metadata": {
        "colab": {
          "base_uri": "https://localhost:8080/"
        },
        "id": "4uNAvP09RpJk",
        "outputId": "f02154ca-6d2c-4e0c-8718-22f4ebdf46e3"
      },
      "outputs": [
        {
          "name": "stdout",
          "output_type": "stream",
          "text": [
            "3 12\n",
            "1 10 2\n",
            "-1\n"
          ]
        }
      ],
      "source": [
        "n,k = list(map(int, input().split()))\n",
        "ip = list(map(int, input().split()))\n",
        "op = -1\n",
        "for i in range(n):\n",
        "  if ip[i]==k:\n",
        "    op = i\n",
        "    break;\n",
        "print(op)"
      ]
    },
    {
      "cell_type": "code",
      "execution_count": null,
      "metadata": {
        "colab": {
          "base_uri": "https://localhost:8080/"
        },
        "id": "y8udys19V3zB",
        "outputId": "f1cba80f-e8e6-400f-cf21-05e7185d157b"
      },
      "outputs": [
        {
          "name": "stdout",
          "output_type": "stream",
          "text": [
            "3 12\n",
            "2 3 12\n",
            "2\n"
          ]
        }
      ],
      "source": [
        "n,k = list(map(int, input().split()))\n",
        "ip = list(map(int, input().split()))\n",
        "op = next((i for i, val in enumerate(ip) if val == k), -1)\n",
        "print(op)"
      ]
    },
    {
      "cell_type": "code",
      "execution_count": null,
      "metadata": {
        "colab": {
          "base_uri": "https://localhost:8080/"
        },
        "id": "uN68tq1kVVsh",
        "outputId": "ed846202-4964-43cb-ecff-5e820b45748e"
      },
      "outputs": [
        {
          "name": "stdout",
          "output_type": "stream",
          "text": [
            "5\n",
            "95 85 75 12 11\n",
            "-3 -13 -23 -86 -87\n"
          ]
        }
      ],
      "source": [
        "n = int(input())\n",
        "ip = list(map(int, input().split()))\n",
        "sm = sum(sorted(ip)[:3])\n",
        "op = list(map(lambda x:x-sm,ip))\n",
        "print(*op)"
      ]
    },
    {
      "cell_type": "code",
      "execution_count": null,
      "metadata": {
        "colab": {
          "base_uri": "https://localhost:8080/"
        },
        "id": "zdqRdx0WaVMy",
        "outputId": "16859781-c7fc-4643-ccb4-d0163afd8198"
      },
      "outputs": [
        {
          "name": "stdout",
          "output_type": "stream",
          "text": [
            "5\n",
            "1 1 2 5 5\n",
            "2\n"
          ]
        }
      ],
      "source": [
        "#1 1 2 5 5\n",
        "n = int(input())\n",
        "ip = list(map(int, input().split()))\n",
        "op = next((i for i in ip if ip.count(i)==1),0)\n",
        "print(op)"
      ]
    },
    {
      "cell_type": "code",
      "execution_count": null,
      "metadata": {
        "colab": {
          "base_uri": "https://localhost:8080/"
        },
        "id": "wt2ne-LubL7g",
        "outputId": "3deb5338-6a8a-4dde-c4dd-e2918d062cc4"
      },
      "outputs": [
        {
          "name": "stdout",
          "output_type": "stream",
          "text": [
            "234\n",
            "29\n"
          ]
        }
      ],
      "source": [
        "ip = input()\n",
        "tmp = list(map(int,list(ip)))\n",
        "op = sum(list(map(lambda x:x**2,tmp)))\n",
        "print(op)"
      ]
    },
    {
      "cell_type": "code",
      "execution_count": null,
      "metadata": {
        "colab": {
          "base_uri": "https://localhost:8080/"
        },
        "id": "kUBEhGAHd_vQ",
        "outputId": "de246f97-6733-4658-a9c8-dee91e474c81"
      },
      "outputs": [
        {
          "name": "stdout",
          "output_type": "stream",
          "text": [
            "10\n",
            "1 9 8 7 6 5 2 3 4 10\n",
            "9\n"
          ]
        }
      ],
      "source": [
        "n = int(input())\n",
        "ip = list(map(int,input().split()))\n",
        "ip.remove(max(ip))\n",
        "print(max(ip))"
      ]
    },
    {
      "cell_type": "code",
      "execution_count": null,
      "metadata": {
        "colab": {
          "base_uri": "https://localhost:8080/"
        },
        "id": "Rp-KnTJPin6Z",
        "outputId": "a6cb3b00-3fda-4685-b80f-f0707e700adc"
      },
      "outputs": [
        {
          "name": "stdout",
          "output_type": "stream",
          "text": [
            "5\n",
            "10000 11200 12030 345 2542354\n",
            "Dealer3\n"
          ]
        }
      ],
      "source": [
        "n = int(input())\n",
        "ip = list(map(int,input().split()))\n",
        "print(\"Dealer\"+str(ip.index(min(ip))))"
      ]
    },
    {
      "cell_type": "code",
      "execution_count": null,
      "metadata": {
        "colab": {
          "base_uri": "https://localhost:8080/"
        },
        "id": "O6hl5ozwjf1y",
        "outputId": "4181edb9-c47d-4f9c-d3a1-54dd1b7d16d4"
      },
      "outputs": [
        {
          "name": "stdout",
          "output_type": "stream",
          "text": [
            "3\n",
            "1\n",
            "1 1 1\n",
            "1 1 1 1 1\n"
          ]
        }
      ],
      "source": [
        "n = int(input())\n",
        "for i in range(1,n*2+1,2):\n",
        "  op = \"1 \"*i\n",
        "  print(op[:-1])\n"
      ]
    },
    {
      "cell_type": "code",
      "execution_count": null,
      "metadata": {
        "colab": {
          "base_uri": "https://localhost:8080/"
        },
        "id": "yfQaGcj1jp9C",
        "outputId": "10b615f7-50b6-4b22-e257-d3aa15c38c17"
      },
      "outputs": [
        {
          "name": "stdout",
          "output_type": "stream",
          "text": [
            "8\n",
            "9876 346 2354 567 6798 78\n",
            "78 346 567 2354 6798 9876\n"
          ]
        }
      ],
      "source": [
        "n = int(input())\n",
        "ip = list(map(int,input().split()))\n",
        "print(*sorted(ip))"
      ]
    },
    {
      "cell_type": "code",
      "execution_count": null,
      "metadata": {
        "colab": {
          "base_uri": "https://localhost:8080/"
        },
        "id": "0KLhsPlzDDxT",
        "outputId": "c3694b04-3d77-4d60-ca43-347bd9d6c2ed"
      },
      "outputs": [
        {
          "name": "stdout",
          "output_type": "stream",
          "text": [
            "1 3\n",
            "1 1 1\n",
            "RAM: 3\n",
            "SITA: 0\n"
          ]
        }
      ],
      "source": [
        "n,m = list(map(int,input().split()))\n",
        "ip = [list(map(int,input().split())) for i in range(n)]\n",
        "op = [sum(i) for i in ip]\n",
        "print(\"RAM: \" + str(sum(op)))\n",
        "print(\"SITA: \" + str(n*m - sum(op)))"
      ]
    },
    {
      "cell_type": "code",
      "execution_count": null,
      "metadata": {
        "colab": {
          "base_uri": "https://localhost:8080/"
        },
        "id": "iJo0pfe6bVOm",
        "outputId": "1f7e2513-8ff5-4876-814b-7f8dfbfb6025"
      },
      "outputs": [
        {
          "name": "stdout",
          "output_type": "stream",
          "text": [
            "6\n",
            "95 79 74 56 52 10\n",
            "1\n",
            "9\n",
            "7\n"
          ]
        }
      ],
      "source": [
        "n = int(input())\n",
        "ipn = list(map(int, input().split()))\n",
        "m = int(input())\n",
        "ipm = list(map(int, input().split()))\n",
        "op = []\n",
        "for i in ipm:\n",
        "  sem = False\n",
        "  for j in range(n-1):\n",
        "    if i<=ipn[j] and i>=ipn[j+1]:\n",
        "      print(ipn[j])\n",
        "      print(i)\n",
        "      print(ipn[j+1])\n",
        "      print(\"---\")\n",
        "      sem = True\n",
        "      op.append(j+2)\n",
        "  if not sem:\n",
        "    if i>=ipn[0]:\n",
        "      sem = True\n",
        "      op.append(1)\n",
        "    elif ipn[-1]> i:\n",
        "      sem = True\n",
        "      op.append(len(ipn)+1)\n",
        "print(*op)\n"
      ]
    },
    {
      "cell_type": "code",
      "execution_count": null,
      "metadata": {
        "colab": {
          "base_uri": "https://localhost:8080/"
        },
        "id": "LHmkr7kTW41-",
        "outputId": "e516601e-4c69-4bfa-d445-ae317b7ef0a0"
      },
      "outputs": [
        {
          "data": {
            "text/plain": [
              "[]"
            ]
          },
          "execution_count": 7,
          "metadata": {},
          "output_type": "execute_result"
        }
      ],
      "source": [
        "op"
      ]
    },
    {
      "cell_type": "code",
      "execution_count": 5,
      "metadata": {
        "colab": {
          "base_uri": "https://localhost:8080/"
        },
        "id": "82ozlwoF6JVB",
        "outputId": "20830052-a0e5-41c7-b96c-344c4945f247"
      },
      "outputs": [
        {
          "name": "stdout",
          "output_type": "stream",
          "text": [
            "6\n",
            "2 3 4 1 23 4 1\n",
            "2\n"
          ]
        }
      ],
      "source": [
        "n = int(input())\n",
        "ip = list(map(int,input().split()))\n",
        "ip = list(filter((min(ip)).__ne__, ip))\n",
        "print(-1 if len(ip)==0 else min(ip))"
      ]
    },
    {
      "cell_type": "code",
      "execution_count": 13,
      "metadata": {
        "colab": {
          "base_uri": "https://localhost:8080/"
        },
        "id": "o0DwskC78qAv",
        "outputId": "d44cff2c-7f34-4510-f790-02c05a2a527d"
      },
      "outputs": [
        {
          "data": {
            "text/plain": [
              "[2, 4, 23, 4]"
            ]
          },
          "execution_count": 13,
          "metadata": {},
          "output_type": "execute_result"
        }
      ],
      "source": [
        "list(filter((3).__ne__,ip))"
      ]
    },
    {
      "cell_type": "code",
      "execution_count": 16,
      "metadata": {
        "colab": {
          "base_uri": "https://localhost:8080/"
        },
        "id": "133tmLiKB7Y3",
        "outputId": "a3802d7c-0019-4acc-acc2-a0d5cdc5973f"
      },
      "outputs": [
        {
          "name": "stdout",
          "output_type": "stream",
          "text": [
            "6\n",
            "1 2 4 5 6 8\n",
            "1 4 5 9 10 11\n",
            "1\n",
            "1\n",
            "3\n",
            "2\n",
            "4\n",
            "3\n",
            "3\n"
          ]
        }
      ],
      "source": [
        "n = int(input())\n",
        "ip1 = list(map(int, input().split()))\n",
        "ip2 = list(map(int, input().split()))\n",
        "op,i,j = 0,0,0\n",
        "while i<(n-1) and j<(n-1):\n",
        "  if ip1[i]==ip2[j]:\n",
        "    op+=1\n",
        "    i+=1\n",
        "    j+=1\n",
        "  elif ip1[i]<ip2[j]:\n",
        "    i+=1\n",
        "  else:\n",
        "    j+=1\n",
        "print(op)\n"
      ]
    },
    {
      "cell_type": "code",
      "execution_count": 2,
      "metadata": {
        "colab": {
          "base_uri": "https://localhost:8080/"
        },
        "id": "0YpvDirfqm3R",
        "outputId": "9438312c-05e7-4e5c-b288-2cbdaeb91bf9"
      },
      "outputs": [
        {
          "name": "stdout",
          "output_type": "stream",
          "text": [
            "5 3\n",
            "1 2 34 54 6\n",
            "-1\n"
          ]
        }
      ],
      "source": [
        "n,k = list(map(int, input().split()))\n",
        "ip = list(map(int, input().split()))\n",
        "op = sorted(ip)\n",
        "print(op.index(k) if k in ip else -1)"
      ]
    },
    {
      "cell_type": "code",
      "execution_count": 17,
      "metadata": {
        "colab": {
          "base_uri": "https://localhost:8080/"
        },
        "id": "2gmgGX5_3Ilt",
        "outputId": "5615e833-94f1-45bb-c158-f473ad30cf20"
      },
      "outputs": [
        {
          "name": "stdout",
          "output_type": "stream",
          "text": [
            "5 4 \n",
            "1 5 3 8 9\n",
            "2 4 7 6\n",
            "0 0\n",
            "1 2\n",
            "\n",
            " \n",
            "1 0\n",
            "3 2\n",
            "1\n",
            " \n",
            "1 1\n",
            "3 4\n",
            "1 2\n",
            " \n",
            "2 1\n",
            "5 4\n",
            "1 2 3\n",
            " \n",
            "2 2\n",
            "5 6\n",
            "1 2 3 4\n",
            " \n",
            "3 2\n",
            "8 6\n",
            "1 2 3 4 5\n",
            " \n",
            "3 3\n",
            "8 7\n",
            "1 2 3 4 5 6\n",
            " \n",
            "1 2 3 4 5 6 7 8 9\n"
          ]
        }
      ],
      "source": [
        "n,m = list(map(int, input().split()))\n",
        "ip1 = sorted(list(map(int, input().split())))\n",
        "ip2 = sorted(list(map(int, input().split())))\n",
        "op = []\n",
        "i,j = 0,0\n",
        "while True:\n",
        "  if i+1 == n:\n",
        "    break\n",
        "  if j+1 == m:\n",
        "    break\n",
        "  if ip1[i]<ip2[j]:\n",
        "    op.append(ip1[i])\n",
        "    i = i+1\n",
        "  elif ip1[i]>ip2[j]:\n",
        "    op.append(ip2[j])\n",
        "    j = j+1\n",
        "  elif ip1[i]==ip2[j]:\n",
        "    op.append(ip1[i])\n",
        "    op.append(ip2[j])\n",
        "    i = i+1\n",
        "    j = j+1\n",
        "if ip1[i]<ip2[j]:\n",
        "  if (i) < n:\n",
        "    op = op + ip1[i:]\n",
        "  if (j) < m:\n",
        "    op = op + ip2[j:]\n",
        "else:\n",
        "  if (j) < m:\n",
        "    op = op + ip2[j:]\n",
        "  if (i) < n:\n",
        "    op = op + ip1[i:]\n",
        "print(*op)\n",
        "\n",
        "\n",
        "\n",
        "\n"
      ]
    },
    {
      "cell_type": "code",
      "execution_count": 18,
      "metadata": {
        "colab": {
          "base_uri": "https://localhost:8080/"
        },
        "id": "cPO9b9bPGxNN",
        "outputId": "1b72d76c-6a32-49ed-c373-6d71dcefb2d8"
      },
      "outputs": [
        {
          "name": "stdout",
          "output_type": "stream",
          "text": [
            "5\n",
            "1 2 4 6 8\n",
            "14\n"
          ]
        }
      ],
      "source": [
        "n = int(input())\n",
        "ip = list(map(int, input().split()))\n",
        "op = -999999999\n",
        "for i in range(n-1):\n",
        "  if ip[i]+ip[i+1] > op:\n",
        "    op = ip[i]+ip[i+1]\n",
        "print(op)\n",
        "\n"
      ]
    },
    {
      "cell_type": "code",
      "execution_count": 19,
      "metadata": {
        "colab": {
          "base_uri": "https://localhost:8080/"
        },
        "id": "Cji3ENkdK0Nl",
        "outputId": "e7105723-5bb5-4d88-96f7-40c08a505c8c"
      },
      "outputs": [
        {
          "name": "stdout",
          "output_type": "stream",
          "text": [
            "5\n",
            "1 1 2 5 5\n",
            "2\n"
          ]
        }
      ],
      "source": [
        "#1 1 2 5 5\n",
        "n = int(input())\n",
        "ip = list(map(int, input().split()))\n",
        "op = next(i for i in ip if ip.count(i)==1)\n",
        "print(op)"
      ]
    },
    {
      "cell_type": "code",
      "execution_count": 23,
      "metadata": {
        "colab": {
          "base_uri": "https://localhost:8080/"
        },
        "id": "FzeH2mPiLeH9",
        "outputId": "d62227be-5b11-47f7-90c2-7c1e3c21a26e"
      },
      "outputs": [
        {
          "name": "stdout",
          "output_type": "stream",
          "text": [
            "5 4\n",
            "1 2 1 5 1\n",
            "1 1 1 2\n"
          ]
        }
      ],
      "source": [
        "#1 2 1 4 1\n",
        "n,k = list(map(int, input().split()))\n",
        "ip = list(map(int, input().split()))\n",
        "op = list(filter(lambda x:x<k,ip))\n",
        "if len(op)==0:\n",
        "  print(-1)\n",
        "else:\n",
        "  print(*sorted(op))"
      ]
    },
    {
      "cell_type": "code",
      "execution_count": 30,
      "metadata": {
        "colab": {
          "base_uri": "https://localhost:8080/"
        },
        "id": "yeWFAuAghvFl",
        "outputId": "7ffde59e-0add-4eac-e704-6e558729ab0c"
      },
      "outputs": [
        {
          "name": "stdout",
          "output_type": "stream",
          "text": [
            "8\n",
            "1 2 2 2 3 4 5 6\n",
            "3\n"
          ]
        }
      ],
      "source": [
        "n = int(input())\n",
        "ip = list(map(int,input().split()))\n",
        "mn, tmp = 0, 1\n",
        "for i in range(n-1):\n",
        "  if ip[i]==ip[i+1]:\n",
        "    tmp += 1\n",
        "    if tmp > mn:\n",
        "      mn = tmp\n",
        "  else:\n",
        "    tmp = 1\n",
        "print(-1 if mn == 0 else mn)\n"
      ]
    },
    {
      "cell_type": "code",
      "execution_count": 12,
      "metadata": {
        "colab": {
          "base_uri": "https://localhost:8080/"
        },
        "id": "s6sqHwLaeaW8",
        "outputId": "c5143093-a9d0-49b5-8b34-12b660698a71"
      },
      "outputs": [
        {
          "name": "stdout",
          "output_type": "stream",
          "text": [
            "DEXYZ\n",
            "GHABC\n"
          ]
        }
      ],
      "source": [
        "ip = input()\n",
        "op = [chr(ord(i)+3) if ord(i)<87 else chr(ord(i)+3-26) for i in ip]\n",
        "print(\"\".join(i for i in op))"
      ]
    },
    {
      "cell_type": "code",
      "execution_count": 22,
      "metadata": {
        "colab": {
          "base_uri": "https://localhost:8080/"
        },
        "id": "1qpxPjTwjS7p",
        "outputId": "ed19edb2-d1f7-4932-cb92-f774ccda57d1"
      },
      "outputs": [
        {
          "name": "stdout",
          "output_type": "stream",
          "text": [
            "5\n",
            "1 1 1 0 0 \n",
            "1 1 1\n"
          ]
        }
      ],
      "source": [
        "n = int(input())\n",
        "ip = list(map(int, input().split()))\n",
        "tmp = []\n",
        "for i in ip:\n",
        "  if i==1:\n",
        "    tmp.append(i)\n",
        "  else:\n",
        "    break\n",
        "print(*tmp)\n"
      ]
    },
    {
      "cell_type": "code",
      "execution_count": 25,
      "metadata": {
        "colab": {
          "base_uri": "https://localhost:8080/"
        },
        "id": "z-cuAewOlm2X",
        "outputId": "93d39542-d18d-45b8-b79c-3a368710604e"
      },
      "outputs": [
        {
          "name": "stdout",
          "output_type": "stream",
          "text": [
            "5\n",
            "2 3 6 5 7\n",
            "no\n"
          ]
        }
      ],
      "source": [
        "n = int(input())\n",
        "ip = list(map(int,input().split()))\n",
        "op = \"yes\"\n",
        "if ip[0]>ip[1]:\n",
        "  for i in range(1,n-1):\n",
        "    if ip[i]<ip[i+1]:\n",
        "      op = \"no\"\n",
        "      break\n",
        "else:\n",
        "  for i in range(1,n-1):\n",
        "    if ip[i]>ip[i+1]:\n",
        "      op = \"no\"\n",
        "      break\n",
        "print(op)\n"
      ]
    },
    {
      "cell_type": "code",
      "execution_count": 27,
      "metadata": {
        "colab": {
          "base_uri": "https://localhost:8080/"
        },
        "id": "CF2oMvtxmxH2",
        "outputId": "315de6f3-3129-4785-8769-c595398e24d1"
      },
      "outputs": [
        {
          "name": "stdout",
          "output_type": "stream",
          "text": [
            "10001 1\n",
            "2\n"
          ]
        }
      ],
      "source": [
        "n,k = input().split()\n",
        "op = sum(1 for i in n if i==k)\n",
        "print(op)\n"
      ]
    },
    {
      "cell_type": "code",
      "execution_count": 29,
      "metadata": {
        "colab": {
          "base_uri": "https://localhost:8080/"
        },
        "id": "OdXumA53nXD3",
        "outputId": "273d4565-8f89-4757-c08a-1e99a89e1585"
      },
      "outputs": [
        {
          "name": "stdout",
          "output_type": "stream",
          "text": [
            "5\n",
            "1 2 3 4 5\n",
            "4\n"
          ]
        }
      ],
      "source": [
        "n = int(input())\n",
        "ip = list(map(int, input().split()))\n",
        "print(max(ip)-min(ip))"
      ]
    },
    {
      "cell_type": "code",
      "execution_count": 31,
      "metadata": {
        "colab": {
          "base_uri": "https://localhost:8080/"
        },
        "id": "MdIDLjAUn5OL",
        "outputId": "dcc1edd5-ec08-4f66-ff80-e7dd132d695d"
      },
      "outputs": [
        {
          "name": "stdout",
          "output_type": "stream",
          "text": [
            "5 4\n",
            "1 2 3 4 5\n",
            "[1, 2, 3, 4]\n"
          ]
        }
      ],
      "source": [
        "n,k = list(map(int,input().split()))\n",
        "ip = list(map(int, input().split()))\n",
        "print(ip[:n-k])"
      ]
    },
    {
      "cell_type": "code",
      "execution_count": 34,
      "metadata": {
        "colab": {
          "base_uri": "https://localhost:8080/"
        },
        "id": "4tpWA3fQ-2ot",
        "outputId": "9327eb47-5051-4039-8761-52b0537ee6d8"
      },
      "outputs": [
        {
          "name": "stdout",
          "output_type": "stream",
          "text": [
            "5\n",
            "1 2 3 4 5\n",
            "24\n"
          ]
        }
      ],
      "source": [
        "n = int(input())\n",
        "ip = list(map(int, input().split()))\n",
        "op = sum(ip[i]+ip[i+1] for i in range(n-1))\n",
        "print(op)"
      ]
    },
    {
      "cell_type": "code",
      "execution_count": 2,
      "metadata": {
        "colab": {
          "base_uri": "https://localhost:8080/"
        },
        "id": "tCYnShgTkVNO",
        "outputId": "a69a519a-811e-40b4-cd0d-b28ed2e95333"
      },
      "outputs": [
        {
          "name": "stdout",
          "output_type": "stream",
          "text": [
            "5 4\n",
            "1 2 3 4 5 1 2 3 4\n",
            "1 2 3 4\n"
          ]
        }
      ],
      "source": [
        "n,m = list(map(int, input().split()))\n",
        "ip = list(map(int, input().split()))\n",
        "op = [i for i in ip[:n] if i in ip[n:]]\n",
        "print(*sorted(op))"
      ]
    },
    {
      "cell_type": "code",
      "execution_count": 4,
      "metadata": {
        "colab": {
          "base_uri": "https://localhost:8080/"
        },
        "id": "QXIpEovJkb0M",
        "outputId": "2bfcdcb1-1013-470e-98dc-758b055b6cce"
      },
      "outputs": [
        {
          "data": {
            "text/plain": [
              "[1, 2, 3, 4, 5]"
            ]
          },
          "execution_count": 4,
          "metadata": {},
          "output_type": "execute_result"
        }
      ],
      "source": [
        "ip[:n]"
      ]
    },
    {
      "cell_type": "code",
      "execution_count": 5,
      "metadata": {
        "colab": {
          "base_uri": "https://localhost:8080/"
        },
        "id": "HzYPVAPAkmSS",
        "outputId": "9e0b5482-b585-4ad7-b55c-7b46c5a04b04"
      },
      "outputs": [
        {
          "data": {
            "text/plain": [
              "[1, 2, 3, 6]"
            ]
          },
          "execution_count": 5,
          "metadata": {},
          "output_type": "execute_result"
        }
      ],
      "source": [
        "ip[n:]"
      ]
    },
    {
      "cell_type": "code",
      "execution_count": 33,
      "metadata": {
        "colab": {
          "base_uri": "https://localhost:8080/"
        },
        "id": "06tMmfXXjdYr",
        "outputId": "1407ee1e-f817-4722-b6a7-859a5448d558"
      },
      "outputs": [
        {
          "name": "stdout",
          "output_type": "stream",
          "text": [
            "1\n"
          ]
        }
      ],
      "source": [
        "print(*ip[:n-k])"
      ]
    },
    {
      "cell_type": "code",
      "execution_count": 11,
      "metadata": {
        "colab": {
          "base_uri": "https://localhost:8080/"
        },
        "id": "hPtF2pevetox",
        "outputId": "33c3f300-2253-42f7-fbb3-77e4878e4d31"
      },
      "outputs": [
        {
          "data": {
            "text/plain": [
              "65"
            ]
          },
          "execution_count": 11,
          "metadata": {},
          "output_type": "execute_result"
        }
      ],
      "source": [
        "(ord('X')+3)-26"
      ]
    },
    {
      "cell_type": "code",
      "execution_count": 11,
      "metadata": {
        "colab": {
          "base_uri": "https://localhost:8080/"
        },
        "id": "veqjP7o74ZRg",
        "outputId": "d092d182-1e90-4642-d07f-8c08267191d0"
      },
      "outputs": [
        {
          "name": "stdout",
          "output_type": "stream",
          "text": [
            "1100100\n",
            "144\n"
          ]
        }
      ],
      "source": [
        "ip = input()\n",
        "print(oct(int(ip,2))[2:])"
      ]
    },
    {
      "cell_type": "code",
      "execution_count": 18,
      "metadata": {
        "colab": {
          "base_uri": "https://localhost:8080/"
        },
        "id": "ErzDIa-_6E0n",
        "outputId": "dc2a5c5c-9749-471c-f51f-619b2ecc49e5"
      },
      "outputs": [
        {
          "name": "stdout",
          "output_type": "stream",
          "text": [
            "5\n",
            "1 3 4 6 7\n",
            "-1\n"
          ]
        }
      ],
      "source": [
        "n = int(input())\n",
        "ip = list(map(int, input().split()))\n",
        "check = lambda x:x%2==0\n",
        "op = list(map(check, ip))\n",
        "op_sum = sum(op)\n",
        "op_ret = -1\n",
        "if op_sum == 1 or op_sum == n-1:\n",
        "  if op_sum == 1:\n",
        "    for o,i in zip(op,ip):\n",
        "      if o:\n",
        "        op_ret = i\n",
        "        break\n",
        "  else:\n",
        "    for o,i in zip(op,ip):\n",
        "      if not o:\n",
        "        op_ret = i\n",
        "        break\n",
        "else:\n",
        "  op_ret = -1\n",
        "print(op_ret)"
      ]
    },
    {
      "cell_type": "code",
      "execution_count": 23,
      "metadata": {
        "colab": {
          "base_uri": "https://localhost:8080/"
        },
        "id": "RlDOVEc4F5jj",
        "outputId": "17b07663-e6c8-493c-e1e0-5a708b7589bb"
      },
      "outputs": [
        {
          "name": "stdout",
          "output_type": "stream",
          "text": [
            "5 3\n",
            "abc\n",
            "def\n",
            "ghi\n",
            "kal\n",
            "anc\n",
            "no\n"
          ]
        }
      ],
      "source": [
        "n, k = list(map(int, input().split()))\n",
        "ip = [input() for i in range(n)]\n",
        "op = \"no\"\n",
        "for i in range(n-k+1):\n",
        "  if len(set(ip[i:i+k])) == 1:\n",
        "    op = \"yes\"\n",
        "    break\n",
        "print(op)\n"
      ]
    },
    {
      "cell_type": "code",
      "execution_count": 24,
      "metadata": {
        "colab": {
          "base_uri": "https://localhost:8080/"
        },
        "id": "66vu6y3sHilF",
        "outputId": "7884ed4c-ee42-43bb-9a87-0821a3ee97f6"
      },
      "outputs": [
        {
          "name": "stdout",
          "output_type": "stream",
          "text": [
            "5 3\n",
            "4 3 3 5 6\n",
            "yes2\n"
          ]
        }
      ],
      "source": [
        "n, k = list(map(int, input().split()))\n",
        "ip = list(map(int, input().split()))\n",
        "print(\"yes \"+str(ip.count(k)) if ip.count(k)>0 else \"no\")"
      ]
    },
    {
      "cell_type": "code",
      "execution_count": 25,
      "metadata": {
        "colab": {
          "base_uri": "https://localhost:8080/"
        },
        "id": "u7UbU-s_QVkM",
        "outputId": "e31257d7-c352-4df9-875d-f5b5831e75e5"
      },
      "outputs": [
        {
          "name": "stdout",
          "output_type": "stream",
          "text": [
            "1100100\n",
            "64\n"
          ]
        }
      ],
      "source": [
        "ip = input()\n",
        "print(hex(int(ip,2))[2:])"
      ]
    },
    {
      "cell_type": "code",
      "execution_count": 31,
      "metadata": {
        "colab": {
          "base_uri": "https://localhost:8080/"
        },
        "id": "aEd2uObwnLLI",
        "outputId": "26ee5ccd-9652-4c8d-dca0-24886688fac2"
      },
      "outputs": [
        {
          "name": "stdout",
          "output_type": "stream",
          "text": [
            "5\n",
            "12 12 3 2 4\n",
            "no\n"
          ]
        }
      ],
      "source": [
        "n = int(input())\n",
        "ip = list(map(int,input().split()))\n",
        "op = \"yes\"\n",
        "for i in range(n-1):\n",
        "  if i%2==0:\n",
        "    if ip[i] > ip[i+1]:\n",
        "      op = \"no\"\n",
        "      break\n",
        "  else:\n",
        "    if ip[i] < ip[i+1]:\n",
        "      op = \"no\"\n",
        "      break\n",
        "print(op)\n"
      ]
    },
    {
      "cell_type": "code",
      "execution_count": 33,
      "metadata": {
        "colab": {
          "base_uri": "https://localhost:8080/"
        },
        "id": "Mg3Jhp41qZUf",
        "outputId": "433ead95-a8c5-4236-fba5-86f5f0fb7c59"
      },
      "outputs": [
        {
          "name": "stdout",
          "output_type": "stream",
          "text": [
            "5\n",
            "3 3 4 4 7\n",
            "7\n"
          ]
        }
      ],
      "source": [
        "#3 3 4 4 7\n",
        "n = int(input())\n",
        "ip = list(map(int,input().split()))\n",
        "op = {i:ip.count(i) for i in ip}\n",
        "print(min(op,key=op.get))"
      ]
    },
    {
      "cell_type": "code",
      "execution_count": 39,
      "metadata": {
        "colab": {
          "base_uri": "https://localhost:8080/"
        },
        "id": "EmHesW6iu1jx",
        "outputId": "7a84802a-84c0-4be1-85f3-944e9444562b"
      },
      "outputs": [
        {
          "name": "stdout",
          "output_type": "stream",
          "text": [
            "5\n",
            "A A P P A\n",
            "Not Blacklisted\n"
          ]
        }
      ],
      "source": [
        "n = int(input())\n",
        "ip = input().split()\n",
        "op = {i:ip.count(i) for i in ip}\n",
        "print(\"Not Blacklisted\" if (op['P']/n)*100>25 else \"Blacklisted\")\n"
      ]
    },
    {
      "cell_type": "code",
      "execution_count": 35,
      "metadata": {
        "colab": {
          "base_uri": "https://localhost:8080/"
        },
        "id": "tyQIrls6vGM3",
        "outputId": "6ba25aab-c081-44e3-c0f7-763c26f49ec3"
      },
      "outputs": [
        {
          "data": {
            "text/plain": [
              "40.0"
            ]
          },
          "execution_count": 35,
          "metadata": {},
          "output_type": "execute_result"
        }
      ],
      "source": [
        "(op['P']/n)*100"
      ]
    },
    {
      "cell_type": "code",
      "execution_count": 1,
      "metadata": {},
      "outputs": [
        {
          "name": "stdout",
          "output_type": "stream",
          "text": [
            "144\n"
          ]
        }
      ],
      "source": [
        "ip = input()\n",
        "print(oct(int(ip,2))[2:])"
      ]
    },
    {
      "cell_type": "code",
      "execution_count": 2,
      "metadata": {},
      "outputs": [
        {
          "name": "stdout",
          "output_type": "stream",
          "text": [
            "-1\n"
          ]
        }
      ],
      "source": [
        "n = int(input())\n",
        "ip = list(map(int, input().split()))\n",
        "check = lambda x:x%2==0\n",
        "op = list(map(check, ip))\n",
        "op_sum = sum(op)\n",
        "op_ret = -1\n",
        "if op_sum == 1 or op_sum == n-1:\n",
        "  if op_sum == 1:\n",
        "    for o,i in zip(op,ip):\n",
        "      if o:\n",
        "        op_ret = i\n",
        "        break\n",
        "  else:\n",
        "    for o,i in zip(op,ip):\n",
        "      if not o:\n",
        "        op_ret = i\n",
        "        break    \n",
        "else:\n",
        "  op_ret = -1\n",
        "print(op_ret)"
      ]
    },
    {
      "cell_type": "code",
      "execution_count": 3,
      "metadata": {},
      "outputs": [
        {
          "name": "stdout",
          "output_type": "stream",
          "text": [
            "yes\n"
          ]
        }
      ],
      "source": [
        "n, k = list(map(int, input().split()))\n",
        "ip = [input() for i in range(n)]\n",
        "op = \"no\"\n",
        "for i in range(n-k+1):\n",
        "  if len(set(ip[i:i+k])) == 1:\n",
        "    op = \"yes\"\n",
        "    break\n",
        "print(op)    "
      ]
    },
    {
      "cell_type": "code",
      "execution_count": 4,
      "metadata": {},
      "outputs": [
        {
          "name": "stdout",
          "output_type": "stream",
          "text": [
            "yes 2\n"
          ]
        }
      ],
      "source": [
        "n, k = list(map(int, input().split()))\n",
        "ip = list(map(int, input().split()))\n",
        "print(\"yes \"+str(ip.count(k)) if ip.count(k)>0 else \"no\")"
      ]
    },
    {
      "cell_type": "code",
      "execution_count": null,
      "metadata": {},
      "outputs": [],
      "source": [
        "n = int(input())\n",
        "ip = list(map(int,input().split()))\n",
        "op = {i:ip.count(i) for i in ip}\n",
        "print(min(op,key=op.get))"
      ]
    },
    {
      "cell_type": "code",
      "execution_count": 5,
      "metadata": {},
      "outputs": [
        {
          "name": "stdout",
          "output_type": "stream",
          "text": [
            "stRinGmaNipUlaTioN\n"
          ]
        }
      ],
      "source": [
        "ip, n = input().split()\n",
        "if int(n)!=0:\n",
        "  op = [v.upper() if (i+1)%int(n)==0 else v for i,v in enumerate(ip)]\n",
        "  print(\"\".join(i for i in op))\n",
        "else:\n",
        "  print(ip)"
      ]
    },
    {
      "cell_type": "code",
      "execution_count": 6,
      "metadata": {},
      "outputs": [
        {
          "name": "stdout",
          "output_type": "stream",
          "text": [
            "3 2 4 1 5\n"
          ]
        }
      ],
      "source": [
        "n = int(input())\n",
        "ip = list(map(int, input().split()))\n",
        "mid = lambda x:len(x)//2 if len(x)%2==1 else (len(x)//2)-1\n",
        "op = []\n",
        "while True:\n",
        "  if len(ip)==0:\n",
        "    break\n",
        "  m = mid(ip)\n",
        "  op.append(ip[m])\n",
        "  ip.pop(m)\n",
        "print(*op)"
      ]
    }
  ],
  "metadata": {
    "colab": {
      "provenance": []
    },
    "kernelspec": {
      "display_name": "Python 3",
      "name": "python3"
    },
    "language_info": {
      "codemirror_mode": {
        "name": "ipython",
        "version": 3
      },
      "file_extension": ".py",
      "mimetype": "text/x-python",
      "name": "python",
      "nbconvert_exporter": "python",
      "pygments_lexer": "ipython3",
      "version": "3.10.9"
    }
  },
  "nbformat": 4,
  "nbformat_minor": 0
}
